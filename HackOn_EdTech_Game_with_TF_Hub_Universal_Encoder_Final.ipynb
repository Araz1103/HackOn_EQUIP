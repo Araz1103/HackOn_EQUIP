{
  "nbformat": 4,
  "nbformat_minor": 0,
  "metadata": {
    "colab": {
      "name": "HackOn EdTech Game with TF-Hub Universal Encoder",
      "provenance": [],
      "collapsed_sections": [],
      "toc_visible": true
    },
    "kernelspec": {
      "display_name": "Python 3",
      "language": "python",
      "name": "python3"
    }
  },
  "cells": [
    {
      "cell_type": "code",
      "metadata": {
        "id": "t_3Eixhkp9BZ"
      },
      "source": [
        "glb_cnt = 2"
      ],
      "execution_count": 180,
      "outputs": []
    },
    {
      "cell_type": "code",
      "metadata": {
        "id": "ehnlE4SWOmtz"
      },
      "source": [
        "%%capture\n",
        "!pip3 install fastcluster"
      ],
      "execution_count": null,
      "outputs": []
    },
    {
      "cell_type": "code",
      "metadata": {
        "id": "lVjNK8shFKOC"
      },
      "source": [
        "%%capture\n",
        "!pip3 install seaborn"
      ],
      "execution_count": null,
      "outputs": []
    },
    {
      "cell_type": "code",
      "metadata": {
        "colab": {
          "base_uri": "https://localhost:8080/"
        },
        "id": "pdUmseOeWfct",
        "outputId": "1b97ad31-8220-4ffa-f9d8-15b496a086fd"
      },
      "source": [
        "!pip3 install rake-nltk"
      ],
      "execution_count": 36,
      "outputs": [
        {
          "output_type": "stream",
          "text": [
            "Requirement already satisfied: rake-nltk in /usr/local/lib/python3.7/dist-packages (1.0.4)\n",
            "Requirement already satisfied: nltk in /usr/local/lib/python3.7/dist-packages (from rake-nltk) (3.2.5)\n",
            "Requirement already satisfied: six in /usr/local/lib/python3.7/dist-packages (from nltk->rake-nltk) (1.15.0)\n"
          ],
          "name": "stdout"
        }
      ]
    },
    {
      "cell_type": "code",
      "metadata": {
        "colab": {
          "base_uri": "https://localhost:8080/"
        },
        "id": "xOoqvL4fWnUf",
        "outputId": "edb20df5-0537-4cdd-f283-52104da43be0"
      },
      "source": [
        "import nltk\n",
        "nltk.download('stopwords')\n",
        "nltk.download('wordnet')\n",
        "from nltk.corpus import wordnet\n",
        "\n"
      ],
      "execution_count": 37,
      "outputs": [
        {
          "output_type": "stream",
          "text": [
            "[nltk_data] Downloading package stopwords to /root/nltk_data...\n",
            "[nltk_data]   Package stopwords is already up-to-date!\n",
            "[nltk_data] Downloading package wordnet to /root/nltk_data...\n",
            "[nltk_data]   Package wordnet is already up-to-date!\n"
          ],
          "name": "stdout"
        }
      ]
    },
    {
      "cell_type": "code",
      "metadata": {
        "id": "P5OjAn_hfZnI"
      },
      "source": [
        "import yake"
      ],
      "execution_count": 39,
      "outputs": []
    },
    {
      "cell_type": "code",
      "metadata": {
        "colab": {
          "base_uri": "https://localhost:8080/"
        },
        "id": "7BZ7II-4bMJp",
        "outputId": "db536df8-01b2-4c6b-ab50-7680404f2ea9"
      },
      "source": [
        "pip install git+https://github.com/LIAAD/yake\n"
      ],
      "execution_count": 5,
      "outputs": [
        {
          "output_type": "stream",
          "text": [
            "Collecting git+https://github.com/LIAAD/yake\n",
            "  Cloning https://github.com/LIAAD/yake to /tmp/pip-req-build-zc2y_8km\n",
            "  Running command git clone -q https://github.com/LIAAD/yake /tmp/pip-req-build-zc2y_8km\n",
            "Requirement already satisfied: tabulate in /usr/local/lib/python3.7/dist-packages (from yake==0.4.8) (0.8.9)\n",
            "Requirement already satisfied: click>=6.0 in /usr/local/lib/python3.7/dist-packages (from yake==0.4.8) (7.1.2)\n",
            "Requirement already satisfied: numpy in /usr/local/lib/python3.7/dist-packages (from yake==0.4.8) (1.19.5)\n",
            "Collecting segtok\n",
            "  Downloading https://files.pythonhosted.org/packages/41/08/582dab5f4b1d5ca23bc6927b4bb977c8ff7f3a87a3b98844ef833e2f5623/segtok-1.5.10.tar.gz\n",
            "Requirement already satisfied: networkx in /usr/local/lib/python3.7/dist-packages (from yake==0.4.8) (2.5.1)\n",
            "Collecting jellyfish\n",
            "\u001b[?25l  Downloading https://files.pythonhosted.org/packages/30/a6/4d039bc827a102f62ce7a7910713e38fdfd7c7a40aa39c72fb14938a1473/jellyfish-0.8.2-cp37-cp37m-manylinux2014_x86_64.whl (90kB)\n",
            "\u001b[K     |████████████████████████████████| 92kB 4.3MB/s \n",
            "\u001b[?25hRequirement already satisfied: regex in /usr/local/lib/python3.7/dist-packages (from segtok->yake==0.4.8) (2019.12.20)\n",
            "Requirement already satisfied: decorator<5,>=4.3 in /usr/local/lib/python3.7/dist-packages (from networkx->yake==0.4.8) (4.4.2)\n",
            "Building wheels for collected packages: yake, segtok\n",
            "  Building wheel for yake (setup.py) ... \u001b[?25l\u001b[?25hdone\n",
            "  Created wheel for yake: filename=yake-0.4.8-py2.py3-none-any.whl size=60161 sha256=7032934d8faa67e7100f78f5598ff0449bdf33c57d15e4868012c255552050d6\n",
            "  Stored in directory: /tmp/pip-ephem-wheel-cache-wthzsxok/wheels/be/35/27/e4ebd54b78c1806ed8b0271ce247fcd91e2bedde35889fbc9b\n",
            "  Building wheel for segtok (setup.py) ... \u001b[?25l\u001b[?25hdone\n",
            "  Created wheel for segtok: filename=segtok-1.5.10-cp37-none-any.whl size=25019 sha256=f8db0e40a824ccb44d830026beea19bc5f7d25646ab95dce893d88231b01aaf0\n",
            "  Stored in directory: /root/.cache/pip/wheels/b4/39/f6/9ca1c5cabde964d728023b5751c3a206a5c8cc40252321fb6b\n",
            "Successfully built yake segtok\n",
            "Installing collected packages: segtok, jellyfish, yake\n",
            "Successfully installed jellyfish-0.8.2 segtok-1.5.10 yake-0.4.8\n"
          ],
          "name": "stdout"
        }
      ]
    },
    {
      "cell_type": "code",
      "metadata": {
        "colab": {
          "base_uri": "https://localhost:8080/"
        },
        "id": "UIelRYnbbemn",
        "outputId": "7fe56c06-1e85-4516-ee3d-36c00f873e0b"
      },
      "source": [
        "!python -m spacy download en_core_web_lg"
      ],
      "execution_count": 6,
      "outputs": [
        {
          "output_type": "stream",
          "text": [
            "Collecting en_core_web_lg==2.2.5\n",
            "\u001b[?25l  Downloading https://github.com/explosion/spacy-models/releases/download/en_core_web_lg-2.2.5/en_core_web_lg-2.2.5.tar.gz (827.9MB)\n",
            "\u001b[K     |████████████████████████████████| 827.9MB 1.1MB/s \n",
            "\u001b[?25hRequirement already satisfied: spacy>=2.2.2 in /usr/local/lib/python3.7/dist-packages (from en_core_web_lg==2.2.5) (2.2.4)\n",
            "Requirement already satisfied: thinc==7.4.0 in /usr/local/lib/python3.7/dist-packages (from spacy>=2.2.2->en_core_web_lg==2.2.5) (7.4.0)\n",
            "Requirement already satisfied: cymem<2.1.0,>=2.0.2 in /usr/local/lib/python3.7/dist-packages (from spacy>=2.2.2->en_core_web_lg==2.2.5) (2.0.5)\n",
            "Requirement already satisfied: tqdm<5.0.0,>=4.38.0 in /usr/local/lib/python3.7/dist-packages (from spacy>=2.2.2->en_core_web_lg==2.2.5) (4.41.1)\n",
            "Requirement already satisfied: murmurhash<1.1.0,>=0.28.0 in /usr/local/lib/python3.7/dist-packages (from spacy>=2.2.2->en_core_web_lg==2.2.5) (1.0.5)\n",
            "Requirement already satisfied: setuptools in /usr/local/lib/python3.7/dist-packages (from spacy>=2.2.2->en_core_web_lg==2.2.5) (56.1.0)\n",
            "Requirement already satisfied: plac<1.2.0,>=0.9.6 in /usr/local/lib/python3.7/dist-packages (from spacy>=2.2.2->en_core_web_lg==2.2.5) (1.1.3)\n",
            "Requirement already satisfied: requests<3.0.0,>=2.13.0 in /usr/local/lib/python3.7/dist-packages (from spacy>=2.2.2->en_core_web_lg==2.2.5) (2.23.0)\n",
            "Requirement already satisfied: srsly<1.1.0,>=1.0.2 in /usr/local/lib/python3.7/dist-packages (from spacy>=2.2.2->en_core_web_lg==2.2.5) (1.0.5)\n",
            "Requirement already satisfied: numpy>=1.15.0 in /usr/local/lib/python3.7/dist-packages (from spacy>=2.2.2->en_core_web_lg==2.2.5) (1.19.5)\n",
            "Requirement already satisfied: wasabi<1.1.0,>=0.4.0 in /usr/local/lib/python3.7/dist-packages (from spacy>=2.2.2->en_core_web_lg==2.2.5) (0.8.2)\n",
            "Requirement already satisfied: catalogue<1.1.0,>=0.0.7 in /usr/local/lib/python3.7/dist-packages (from spacy>=2.2.2->en_core_web_lg==2.2.5) (1.0.0)\n",
            "Requirement already satisfied: preshed<3.1.0,>=3.0.2 in /usr/local/lib/python3.7/dist-packages (from spacy>=2.2.2->en_core_web_lg==2.2.5) (3.0.5)\n",
            "Requirement already satisfied: blis<0.5.0,>=0.4.0 in /usr/local/lib/python3.7/dist-packages (from spacy>=2.2.2->en_core_web_lg==2.2.5) (0.4.1)\n",
            "Requirement already satisfied: urllib3!=1.25.0,!=1.25.1,<1.26,>=1.21.1 in /usr/local/lib/python3.7/dist-packages (from requests<3.0.0,>=2.13.0->spacy>=2.2.2->en_core_web_lg==2.2.5) (1.24.3)\n",
            "Requirement already satisfied: chardet<4,>=3.0.2 in /usr/local/lib/python3.7/dist-packages (from requests<3.0.0,>=2.13.0->spacy>=2.2.2->en_core_web_lg==2.2.5) (3.0.4)\n",
            "Requirement already satisfied: idna<3,>=2.5 in /usr/local/lib/python3.7/dist-packages (from requests<3.0.0,>=2.13.0->spacy>=2.2.2->en_core_web_lg==2.2.5) (2.10)\n",
            "Requirement already satisfied: certifi>=2017.4.17 in /usr/local/lib/python3.7/dist-packages (from requests<3.0.0,>=2.13.0->spacy>=2.2.2->en_core_web_lg==2.2.5) (2020.12.5)\n",
            "Requirement already satisfied: importlib-metadata>=0.20; python_version < \"3.8\" in /usr/local/lib/python3.7/dist-packages (from catalogue<1.1.0,>=0.0.7->spacy>=2.2.2->en_core_web_lg==2.2.5) (4.0.1)\n",
            "Requirement already satisfied: zipp>=0.5 in /usr/local/lib/python3.7/dist-packages (from importlib-metadata>=0.20; python_version < \"3.8\"->catalogue<1.1.0,>=0.0.7->spacy>=2.2.2->en_core_web_lg==2.2.5) (3.4.1)\n",
            "Requirement already satisfied: typing-extensions>=3.6.4; python_version < \"3.8\" in /usr/local/lib/python3.7/dist-packages (from importlib-metadata>=0.20; python_version < \"3.8\"->catalogue<1.1.0,>=0.0.7->spacy>=2.2.2->en_core_web_lg==2.2.5) (3.7.4.3)\n",
            "Building wheels for collected packages: en-core-web-lg\n",
            "  Building wheel for en-core-web-lg (setup.py) ... \u001b[?25l\u001b[?25hdone\n",
            "  Created wheel for en-core-web-lg: filename=en_core_web_lg-2.2.5-cp37-none-any.whl size=829180944 sha256=97cd13beaccb527399c514d7e7e442743aad39b7ced5fcbbab62a63d230441da\n",
            "  Stored in directory: /tmp/pip-ephem-wheel-cache-bl8z1t1r/wheels/2a/c1/a6/fc7a877b1efca9bc6a089d6f506f16d3868408f9ff89f8dbfc\n",
            "Successfully built en-core-web-lg\n",
            "Installing collected packages: en-core-web-lg\n",
            "Successfully installed en-core-web-lg-2.2.5\n",
            "\u001b[38;5;2m✔ Download and installation successful\u001b[0m\n",
            "You can now load the model via spacy.load('en_core_web_lg')\n"
          ],
          "name": "stdout"
        }
      ]
    },
    {
      "cell_type": "code",
      "metadata": {
        "id": "zwty8Z6mAkdV",
        "colab": {
          "base_uri": "https://localhost:8080/"
        },
        "outputId": "1a743a3b-f2e2-4b28-fc5e-2a95e45cb850"
      },
      "source": [
        "#@title Load the Universal Sentence Encoder's TF Hub module\n",
        "from absl import logging\n",
        "\n",
        "import tensorflow as tf\n",
        "\n",
        "import tensorflow_hub as hub\n",
        "import matplotlib.pyplot as plt\n",
        "import numpy as np\n",
        "import os\n",
        "import pandas as pd\n",
        "import re\n",
        "import seaborn as sns\n",
        "\n",
        "module_url = \"https://tfhub.dev/google/universal-sentence-encoder-large/5\" #@param [\"https://tfhub.dev/google/universal-sentence-encoder/4\", \"https://tfhub.dev/google/universal-sentence-encoder-large/5\"]\n",
        "model = hub.load(module_url)\n",
        "print (\"module %s loaded\" % module_url)\n",
        "def embed(input):\n",
        "  return model(input)"
      ],
      "execution_count": 13,
      "outputs": [
        {
          "output_type": "stream",
          "text": [
            "module https://tfhub.dev/google/universal-sentence-encoder-large/5 loaded\n"
          ],
          "name": "stdout"
        }
      ]
    },
    {
      "cell_type": "code",
      "metadata": {
        "id": "efNWDVMom4D9"
      },
      "source": [
        "from scipy.cluster.hierarchy import dendrogram, linkage, cut_tree\n",
        "from matplotlib import pyplot as plt\n",
        "import math"
      ],
      "execution_count": 14,
      "outputs": []
    },
    {
      "cell_type": "code",
      "metadata": {
        "id": "B76bkM3mas-A",
        "colab": {
          "resources": {
            "http://localhost:8080/nbextensions/google.colab/files.js": {
              "data": "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",
              "ok": true,
              "headers": [
                [
                  "content-type",
                  "application/javascript"
                ]
              ],
              "status": 200,
              "status_text": ""
            }
          },
          "base_uri": "https://localhost:8080/",
          "height": 38
        },
        "outputId": "03eb5e46-2ea0-49f6-e7f0-51a699fd0573"
      },
      "source": [
        "#PDF Texts\n",
        "from google.colab import files\n",
        "upload = files.upload()"
      ],
      "execution_count": 15,
      "outputs": [
        {
          "output_type": "display_data",
          "data": {
            "text/html": [
              "\n",
              "     <input type=\"file\" id=\"files-5abd9ada-67f9-4da4-82be-b0a98d2044e1\" name=\"files[]\" multiple disabled\n",
              "        style=\"border:none\" />\n",
              "     <output id=\"result-5abd9ada-67f9-4da4-82be-b0a98d2044e1\">\n",
              "      Upload widget is only available when the cell has been executed in the\n",
              "      current browser session. Please rerun this cell to enable.\n",
              "      </output>\n",
              "      <script src=\"/nbextensions/google.colab/files.js\"></script> "
            ],
            "text/plain": [
              "<IPython.core.display.HTML object>"
            ]
          },
          "metadata": {
            "tags": []
          }
        }
      ]
    },
    {
      "cell_type": "code",
      "metadata": {
        "id": "05UU4kGVb83-"
      },
      "source": [
        "from sklearn import metrics\n",
        "#data_url = 'https://raw.githubusercontent.com/Araz1103/cluster_data/main/questions_cleaned_final.csv?token=AKN3YYILCX3G4BYI4RBJKR3AWX6K2'\n",
        "test_txt = open('test_fess104.txt','r')\n",
        "#test_txt = open('test_fess101.txt','r')\n",
        "#test_txt = open('test_geo.txt','r')\n",
        "#test_txt = open('grade6_sciencech4.txt','r')\n",
        "#test_txt = open('grade8_sciencech7.txt','r')\n",
        "\n"
      ],
      "execution_count": 1,
      "outputs": []
    },
    {
      "cell_type": "code",
      "metadata": {
        "colab": {
          "base_uri": "https://localhost:8080/",
          "height": 120
        },
        "id": "xdDkpzRtyJkG",
        "outputId": "9bcb23b5-ac73-4af5-97ee-716e7cb8f31f"
      },
      "source": [
        "\n",
        "tst_str = test_txt.read()\n",
        "tst_str\n",
        "\n"
      ],
      "execution_count": 2,
      "outputs": [
        {
          "output_type": "execute_result",
          "data": {
            "application/vnd.google.colaboratory.intrinsic+json": {
              "type": "string"
            },
            "text/plain": [
              "'Mary in the library\\nAs the bell rang, the teacher asked the students to follow\\nhim, because they were going to the library for the first\\ntime. When Mary stepped inside, she found that the\\nlibrary was much larger than their classroom. And there\\nwere so many shelves, all full of books. In one corner\\nwas a cupboard filled with large, old volumes. Seeing\\nher trying to open the cupboard, the teacher said, “That\\ncupboard has very special books on different religions.\\nDid you know that we have a set of the Vedas?”\\nWhat are the Vedas? Mary wondered. Let us find out\\nOne of the oldest books in the world\\nYou may have heard about the Vedas. There are\\nfour of them – the Rigveda, Samaveda, Yajurveda\\nand Atharvaveda. The oldest Veda is the Rigveda,\\ncomposed about 3500 years ago. The Rigveda\\nincludes more than a thousand hymns, called\\nsukta or “well-said”. These hymns are in praise\\nof various gods and goddesses. Three gods are\\nespecially important: Agni, the god of fire; Indra,\\na warrior god; and Soma, a plant from which a\\nspecial drink was prepared.\\nThese hymns were composed by sages (rishis).\\nPriests taught students to recite and memorise\\neach syllable, word, and sentence, bit by bit, with\\ngreat care. Most of the hymns were composed,\\ntaught and learnt by men. A few were composed\\nby women. The Rigveda is in old or Vedic Sanskrit,\\nwhich is different from the Sanskrit you learn in\\nschool these days.\\nSanskrit and other languages\\nSanskrit is part of a family of languages known as Indo-European.\\nSome Indian languages such as Assamese, Gujarati, Hindi, Kashmiri\\nand Sindhi; Asian languages such as Persian and many European\\nlanguages such as English, French, German, Greek, Italian and\\nSpanish belong to this family. They are called a family because they\\noriginally had words in common.\\nTake the words ‘matr’ (Sanskrit), ‘ma’ (Hindi) and ‘mother’ (English).\\nDo you notice any similarities?\\nOther languages used in the subcontinent belong to different\\nfamilies. For instance, those used in the north-east belong to the\\nTibeto-Burman family; Tamil, Telugu, Kannada and Malayalam belong\\nto the Dravidian family; and the languages spoken in Jharkhand and\\nparts of central India belong to the Austro-Asiatic family.\\nList the languages you have heard about and try and identify the\\nfamilies to which they belong.\\nThe books we use are written and printed. The\\nRigveda was recited and heard rather than read.\\nIt was written down several centuries after it was\\nfirst composed, and printed less than 200 years\\nago.\\nHow historians study the Rigveda\\nHistorians, like archaeologists, find out about the\\npast, but, in addition to material remains, they\\nexamine written sources as well. Let us see how\\nthey study the Rigveda.\\nSome of the hymns in the Rigveda are in the\\nform of dialogues. This is part of one such hymn,\\na dialogue between a sage named Vishvamitra,\\nand two rivers, (Beas and Sutlej) that were\\nworshipped as goddesses.\\nFind the rivers on Map 1 (page 2), then read on:\\nA page from a\\nmanuscript of the\\nRigveda.\\nThis manuscript of the\\nRigveda, on birch bark,\\nwas found in Kashmir.\\nAbout 150 years ago, it\\nwas used to prepare one\\nof the earliest printed\\ntexts of the Rigveda, as\\nwell as an English\\ntranslation. It is now\\npreserved in a library in\\nPune, Maharashtra.\\nVishvamitra and the Rivers\\nVishvamitra: O rivers, come down from the mountains like two swift horses, like\\ntwo shining cows that lick their calves.\\nYou move like chariots to the sea, through the power of Indra. You are full of\\nwater and wish to unite with one another.\\nThe rivers: We, who are full of water, move along the path the gods have made\\nfor us. Once we start flowing, we cannot be stopped. Why do you pray to us, o\\nsage?\\nVishvamitra: O sisters, please listen to me, the singer who has come from a\\ndistance with his chariots and carts. Let your waters not rise above our axles, so\\nthat we can cross safely.\\nThe rivers: We will listen to your prayers so that you can cross safely.\\nHistorians point out that this hymn was composed in the area where\\nthese rivers flow. They also suggest that the sage lived in a society where\\nhorses and cows were valued animals. That is why the rivers are compared\\nto horses and cows.\\nDo you think chariots were also important? Give reasons for your answer.\\nRead the verses and find out what are the modes of transport that are\\nmentioned.\\nOther rivers, especially the Indus and its other tributaries, and the\\nSarasvati, are also named in the hymns. The Ganga and Yamuna are\\nnamed only once.\\nLook at Map 1 (page 2) and list 5 rivers that are not mentioned in the\\nRigveda.\\nCattle, horses and chariots\\nThere are many prayers in the Rigveda for cattle,\\nchildren (especially sons), and horses. Horses\\nwere yoked to chariots that were used in battles,\\nwhich were fought to capture cattle. Battles were\\nalso fought for land, which was important for\\npasture, and for growing hardy crops that ripened\\nquickly, such as barley. Some battles were fought\\nfor water, and to capture people.\\nSome of the wealth that was obtained was kept\\nby the leaders, some was given to the priests and\\nthe rest was distributed amongst the people. Some\\nwealth was used for the performance of yajnas or\\nsacrifices in which offerings were made into the\\nfire. These were meant for gods and goddesses.\\nOfferings could include ghee, grain, and in some\\ncases, animals.\\nMost men took part in these wars. There was\\nno regular army, but there were assemblies where\\npeople met and discussed matters of war and\\npeace. They also chose leaders, who were often\\nbrave and skilful warriors.\\nWords to describe people\\nThere are several ways of describing people — in\\nterms of the work they do, the language they\\nspeak, the place they belong to, their family, their\\ncommunities and cultural practices. Let us see\\nsome of the words used to describe people found\\nin the Rigveda.\\nThere are two groups who are described in\\nterms of their work — the priests, sometimes\\ncalled brahmins, who performed various rituals,\\nand the rajas.\\nThese rajas were not like the ones you will be\\nlearning about later. They did not have capital\\ncities, palaces or armies, nor did they collect taxes.\\nGenerally, sons did not automatically succeed\\nfathers as rajas.\\nRead the previous section once more and see\\nwhether you can find out what the rajas did.\\nTwo words were used to describe the people or\\nthe community as a whole. One was the word\\njana, which we still use in Hindi and other\\nlanguages. The other was vish. The word vaishya\\ncomes from vish. You will learn more about this\\nin Chapter 5.\\nSeveral vish or jana are mentioned by name.\\nSo we find reference to the Puru jana or vish, the\\nBharata jana or vish, the Yadu jana or vish, and\\nso on.\\nDo any of these names sound familiar?\\nSometimes, the people who composed the\\nhymns described themselves as Aryas and called\\ntheir opponents Dasas or Dasyus. These were\\npeople who did not perform sacrifices, and\\nprobably spoke different languages. Later, the\\nterm dasa (and the feminine dasi) came to mean\\nslave. Slaves were women and men who were often\\ncaptured in war. They were treated as the property\\nof their owners, who could make them do\\nwhatever work they wanted.\\nWhile the Rigveda was being composed in the\\nnorth-west of the subcontinent, there were other\\ndevelopments elsewhere. Let us look at some of\\nthese.\\nSilent sentinels—the story of the megaliths\\nLook at the illustration on the next page.\\nThese stone boulders are known as megaliths\\n(literally big stones). These were carefully arranged\\nby people, and were used to mark burial sites. The\\npractice of erecting megaliths began about\\n3000 years ago, and was prevalent throughout\\nthe Deccan, south India, in the north-east and\\nKashmir.\\nSome important megalithic\\nsites are shown on Map 2\\n(page13). While some\\nmegaliths can be seen on the\\nsurface, other megalithic\\nburials are often underground.\\nSometimes, archaeologists\\nfind a circle of stone boulders\\nor a single large stone\\nstanding on the ground.\\nThese are the only indications\\nthat there are burials beneath.\\nThere were several things\\nthat people did to make megaliths. We have made\\na list here. Try and arrange them in the correct\\norder: digging pits in the earth, transporting\\nstones, breaking boulders, placing stones in\\nposition, finding suitable stone, shaping stones,\\nburying the dead.\\nAll these burials have some common features.\\nGenerally, the dead were buried with distinctive\\npots, which are called Black and Red Ware. Also\\nfound are tools and weapons of iron and\\nsometimes, skeletons of horses, horse equipment\\nand ornaments of stone and gold.\\nWas iron used in the Harappan cities?\\nFinding out about social differences\\nArchaeologists think that objects found with a\\nskeleton probably belonged to the dead person.\\nSometimes, more objects are found in one grave\\nthan in another. Find Brahmagiri on Map 2\\n(page 13). Here, one skeleton was buried with 33\\ngold beads, 2 stone beads, 4 copper bangles, and\\none conch shell. Other skeletons have only a few\\npots. These finds suggest that there was some\\ndifference in status amongst the people who were\\nburied. Some were rich, others poor, some chiefs,\\nothers followers.\\nWere some burial spots meant for certain\\nfamilies?\\nSometimes, megaliths contain more than one\\nskeleton. These indicate that people, perhaps\\nbelonging to the same family, were buried in the\\nsame place though not at the same time. The bodies\\nof those who died later were brought into the grave\\nthrough the portholes. Stone circles or boulders\\nplaced on the surface probably served as signposts\\nto find the burial site, so that people could return\\nto the same place whenever they wanted to.\\nA special burial at Inamgaon\\nFind Inamgaon on Map 2 (page13). It is a site on\\nthe river Ghod, a tributary of the Bhima. It was\\noccupied between 3600 and 2700 years ago. Here,\\nadults were generally buried in the ground, laid\\nout straight, with the head towards the north.\\nSometimes burials were within the houses.\\nVessels that probably contained food and water\\nwere placed with the dead.\\nOne man was found buried in a large, four\\nlegged clay jar in the courtyard of a five-roomed\\nhouse (one of the largest houses at the site), in\\nthe centre of the settlement. This house also\\nhad a granary. The body was placed in a crosslegged\\nposition.\\nDo you think this was the body of a chief?\\nGive reasons for your answer.\\nWhat skeletal studies tell us\\nIt is easy to make out the skeleton of a child from its small size. However,\\nthere are no major differences in the bones of a girl and a boy.\\nCan we make out whether a skeleton was that of a man or a\\nwoman?\\nSometimes, people decide on the basis of what is found with the\\nskeleton. For instance, if a skeleton is found with jewellery, it is\\nsometimes thought to be that of a woman. However, there are\\nproblems with this. Often, men also wore ornaments.\\nA better way of figuring out the sex of a skeleton is to look at the\\nbone structure. The hip or the pelvic area of women is generally\\nlarger to enable child bearing.\\nThese distinctions are based on modern skeletal studies.\\nAbout 2000 years ago, there was a famous physician named\\nCharaka who wrote a book on medicine known as the Charaka\\nSamhita. There he states that the human body has 360 bones. This\\nis a much larger number than the 200 bones that are recognised in\\nmodern anatomy. Charaka arrived at this figure by counting the\\nteeth, joints and cartilage.\\nHow do you think he found out about the human body in such\\ngreat detail?\\nArchaeologists have found seeds of wheat, barley,\\nrice, pulses, millets, peas and sesame. Bones of a\\nnumber of animals, many bearing cut marks that\\nshow they may have been used as food, have also\\nbeen found. These include cattle, buffalo, goat,\\nsheep, dog, horse, ass, pig, sambhar, spotted deer,\\nblackbuck, antelope, hare, and mongoose, besides\\nbirds, crocodile, turtle, crab and fish. There is\\nevidence that fruits such as ber, amla, jamun, dates\\nand a variety of berries were collected.\\nElsewhere\\nFind China in your atlas. Around 3500 years ago,\\nwe find some of the first evidence of writing in China.\\nThese writings were on animal bones. These are\\ncalled oracle bones, because they were used to\\npredict the future. Kings got scribes to write\\nquestions on the bones — would they win battles?\\nWould the harvest be good? Would they have sons?\\nThe bones were then put into the fire, and they\\ncracked because of the heat. Then fortunetellers\\nstudied these cracks, and tried to predict the future.\\nAs you may expect, they sometimes made mistakes.\\nThese kings lived in palaces in cities. They\\namassed vast quantities of wealth, including large,\\nelaborately decorated bronze vessels. However, they\\ndid not know the use of iron.\\nList one difference between the raja of the Rigveda\\nand these kings.'"
            ]
          },
          "metadata": {
            "tags": []
          },
          "execution_count": 2
        }
      ]
    },
    {
      "cell_type": "code",
      "metadata": {
        "id": "r2qaLK2K2PjP"
      },
      "source": [
        "tst_str = tst_str.replace('i.e.','therefore').replace(\".”\",\"”.\").replace(\".’\",\"’.\").replace(\"?”\",\"”?\").replace(\"?’\",\"’?\").replace(\"?\",\"?#$\")"
      ],
      "execution_count": 3,
      "outputs": []
    },
    {
      "cell_type": "code",
      "metadata": {
        "colab": {
          "base_uri": "https://localhost:8080/",
          "height": 120
        },
        "id": "LFvGfnvE6rJP",
        "outputId": "3ace59ce-9f12-46e6-b8ad-1a47c2e5dae4"
      },
      "source": [
        "tst_str"
      ],
      "execution_count": 4,
      "outputs": [
        {
          "output_type": "execute_result",
          "data": {
            "application/vnd.google.colaboratory.intrinsic+json": {
              "type": "string"
            },
            "text/plain": [
              "'Mary in the library\\nAs the bell rang, the teacher asked the students to follow\\nhim, because they were going to the library for the first\\ntime. When Mary stepped inside, she found that the\\nlibrary was much larger than their classroom. And there\\nwere so many shelves, all full of books. In one corner\\nwas a cupboard filled with large, old volumes. Seeing\\nher trying to open the cupboard, the teacher said, “That\\ncupboard has very special books on different religions.\\nDid you know that we have a set of the Vedas”?#$\\nWhat are the Vedas?#$ Mary wondered. Let us find out\\nOne of the oldest books in the world\\nYou may have heard about the Vedas. There are\\nfour of them – the Rigveda, Samaveda, Yajurveda\\nand Atharvaveda. The oldest Veda is the Rigveda,\\ncomposed about 3500 years ago. The Rigveda\\nincludes more than a thousand hymns, called\\nsukta or “well-said”. These hymns are in praise\\nof various gods and goddesses. Three gods are\\nespecially important: Agni, the god of fire; Indra,\\na warrior god; and Soma, a plant from which a\\nspecial drink was prepared.\\nThese hymns were composed by sages (rishis).\\nPriests taught students to recite and memorise\\neach syllable, word, and sentence, bit by bit, with\\ngreat care. Most of the hymns were composed,\\ntaught and learnt by men. A few were composed\\nby women. The Rigveda is in old or Vedic Sanskrit,\\nwhich is different from the Sanskrit you learn in\\nschool these days.\\nSanskrit and other languages\\nSanskrit is part of a family of languages known as Indo-European.\\nSome Indian languages such as Assamese, Gujarati, Hindi, Kashmiri\\nand Sindhi; Asian languages such as Persian and many European\\nlanguages such as English, French, German, Greek, Italian and\\nSpanish belong to this family. They are called a family because they\\noriginally had words in common.\\nTake the words ‘matr’ (Sanskrit), ‘ma’ (Hindi) and ‘mother’ (English).\\nDo you notice any similarities?#$\\nOther languages used in the subcontinent belong to different\\nfamilies. For instance, those used in the north-east belong to the\\nTibeto-Burman family; Tamil, Telugu, Kannada and Malayalam belong\\nto the Dravidian family; and the languages spoken in Jharkhand and\\nparts of central India belong to the Austro-Asiatic family.\\nList the languages you have heard about and try and identify the\\nfamilies to which they belong.\\nThe books we use are written and printed. The\\nRigveda was recited and heard rather than read.\\nIt was written down several centuries after it was\\nfirst composed, and printed less than 200 years\\nago.\\nHow historians study the Rigveda\\nHistorians, like archaeologists, find out about the\\npast, but, in addition to material remains, they\\nexamine written sources as well. Let us see how\\nthey study the Rigveda.\\nSome of the hymns in the Rigveda are in the\\nform of dialogues. This is part of one such hymn,\\na dialogue between a sage named Vishvamitra,\\nand two rivers, (Beas and Sutlej) that were\\nworshipped as goddesses.\\nFind the rivers on Map 1 (page 2), then read on:\\nA page from a\\nmanuscript of the\\nRigveda.\\nThis manuscript of the\\nRigveda, on birch bark,\\nwas found in Kashmir.\\nAbout 150 years ago, it\\nwas used to prepare one\\nof the earliest printed\\ntexts of the Rigveda, as\\nwell as an English\\ntranslation. It is now\\npreserved in a library in\\nPune, Maharashtra.\\nVishvamitra and the Rivers\\nVishvamitra: O rivers, come down from the mountains like two swift horses, like\\ntwo shining cows that lick their calves.\\nYou move like chariots to the sea, through the power of Indra. You are full of\\nwater and wish to unite with one another.\\nThe rivers: We, who are full of water, move along the path the gods have made\\nfor us. Once we start flowing, we cannot be stopped. Why do you pray to us, o\\nsage?#$\\nVishvamitra: O sisters, please listen to me, the singer who has come from a\\ndistance with his chariots and carts. Let your waters not rise above our axles, so\\nthat we can cross safely.\\nThe rivers: We will listen to your prayers so that you can cross safely.\\nHistorians point out that this hymn was composed in the area where\\nthese rivers flow. They also suggest that the sage lived in a society where\\nhorses and cows were valued animals. That is why the rivers are compared\\nto horses and cows.\\nDo you think chariots were also important?#$ Give reasons for your answer.\\nRead the verses and find out what are the modes of transport that are\\nmentioned.\\nOther rivers, especially the Indus and its other tributaries, and the\\nSarasvati, are also named in the hymns. The Ganga and Yamuna are\\nnamed only once.\\nLook at Map 1 (page 2) and list 5 rivers that are not mentioned in the\\nRigveda.\\nCattle, horses and chariots\\nThere are many prayers in the Rigveda for cattle,\\nchildren (especially sons), and horses. Horses\\nwere yoked to chariots that were used in battles,\\nwhich were fought to capture cattle. Battles were\\nalso fought for land, which was important for\\npasture, and for growing hardy crops that ripened\\nquickly, such as barley. Some battles were fought\\nfor water, and to capture people.\\nSome of the wealth that was obtained was kept\\nby the leaders, some was given to the priests and\\nthe rest was distributed amongst the people. Some\\nwealth was used for the performance of yajnas or\\nsacrifices in which offerings were made into the\\nfire. These were meant for gods and goddesses.\\nOfferings could include ghee, grain, and in some\\ncases, animals.\\nMost men took part in these wars. There was\\nno regular army, but there were assemblies where\\npeople met and discussed matters of war and\\npeace. They also chose leaders, who were often\\nbrave and skilful warriors.\\nWords to describe people\\nThere are several ways of describing people — in\\nterms of the work they do, the language they\\nspeak, the place they belong to, their family, their\\ncommunities and cultural practices. Let us see\\nsome of the words used to describe people found\\nin the Rigveda.\\nThere are two groups who are described in\\nterms of their work — the priests, sometimes\\ncalled brahmins, who performed various rituals,\\nand the rajas.\\nThese rajas were not like the ones you will be\\nlearning about later. They did not have capital\\ncities, palaces or armies, nor did they collect taxes.\\nGenerally, sons did not automatically succeed\\nfathers as rajas.\\nRead the previous section once more and see\\nwhether you can find out what the rajas did.\\nTwo words were used to describe the people or\\nthe community as a whole. One was the word\\njana, which we still use in Hindi and other\\nlanguages. The other was vish. The word vaishya\\ncomes from vish. You will learn more about this\\nin Chapter 5.\\nSeveral vish or jana are mentioned by name.\\nSo we find reference to the Puru jana or vish, the\\nBharata jana or vish, the Yadu jana or vish, and\\nso on.\\nDo any of these names sound familiar?#$\\nSometimes, the people who composed the\\nhymns described themselves as Aryas and called\\ntheir opponents Dasas or Dasyus. These were\\npeople who did not perform sacrifices, and\\nprobably spoke different languages. Later, the\\nterm dasa (and the feminine dasi) came to mean\\nslave. Slaves were women and men who were often\\ncaptured in war. They were treated as the property\\nof their owners, who could make them do\\nwhatever work they wanted.\\nWhile the Rigveda was being composed in the\\nnorth-west of the subcontinent, there were other\\ndevelopments elsewhere. Let us look at some of\\nthese.\\nSilent sentinels—the story of the megaliths\\nLook at the illustration on the next page.\\nThese stone boulders are known as megaliths\\n(literally big stones). These were carefully arranged\\nby people, and were used to mark burial sites. The\\npractice of erecting megaliths began about\\n3000 years ago, and was prevalent throughout\\nthe Deccan, south India, in the north-east and\\nKashmir.\\nSome important megalithic\\nsites are shown on Map 2\\n(page13). While some\\nmegaliths can be seen on the\\nsurface, other megalithic\\nburials are often underground.\\nSometimes, archaeologists\\nfind a circle of stone boulders\\nor a single large stone\\nstanding on the ground.\\nThese are the only indications\\nthat there are burials beneath.\\nThere were several things\\nthat people did to make megaliths. We have made\\na list here. Try and arrange them in the correct\\norder: digging pits in the earth, transporting\\nstones, breaking boulders, placing stones in\\nposition, finding suitable stone, shaping stones,\\nburying the dead.\\nAll these burials have some common features.\\nGenerally, the dead were buried with distinctive\\npots, which are called Black and Red Ware. Also\\nfound are tools and weapons of iron and\\nsometimes, skeletons of horses, horse equipment\\nand ornaments of stone and gold.\\nWas iron used in the Harappan cities?#$\\nFinding out about social differences\\nArchaeologists think that objects found with a\\nskeleton probably belonged to the dead person.\\nSometimes, more objects are found in one grave\\nthan in another. Find Brahmagiri on Map 2\\n(page 13). Here, one skeleton was buried with 33\\ngold beads, 2 stone beads, 4 copper bangles, and\\none conch shell. Other skeletons have only a few\\npots. These finds suggest that there was some\\ndifference in status amongst the people who were\\nburied. Some were rich, others poor, some chiefs,\\nothers followers.\\nWere some burial spots meant for certain\\nfamilies?#$\\nSometimes, megaliths contain more than one\\nskeleton. These indicate that people, perhaps\\nbelonging to the same family, were buried in the\\nsame place though not at the same time. The bodies\\nof those who died later were brought into the grave\\nthrough the portholes. Stone circles or boulders\\nplaced on the surface probably served as signposts\\nto find the burial site, so that people could return\\nto the same place whenever they wanted to.\\nA special burial at Inamgaon\\nFind Inamgaon on Map 2 (page13). It is a site on\\nthe river Ghod, a tributary of the Bhima. It was\\noccupied between 3600 and 2700 years ago. Here,\\nadults were generally buried in the ground, laid\\nout straight, with the head towards the north.\\nSometimes burials were within the houses.\\nVessels that probably contained food and water\\nwere placed with the dead.\\nOne man was found buried in a large, four\\nlegged clay jar in the courtyard of a five-roomed\\nhouse (one of the largest houses at the site), in\\nthe centre of the settlement. This house also\\nhad a granary. The body was placed in a crosslegged\\nposition.\\nDo you think this was the body of a chief?#$\\nGive reasons for your answer.\\nWhat skeletal studies tell us\\nIt is easy to make out the skeleton of a child from its small size. However,\\nthere are no major differences in the bones of a girl and a boy.\\nCan we make out whether a skeleton was that of a man or a\\nwoman?#$\\nSometimes, people decide on the basis of what is found with the\\nskeleton. For instance, if a skeleton is found with jewellery, it is\\nsometimes thought to be that of a woman. However, there are\\nproblems with this. Often, men also wore ornaments.\\nA better way of figuring out the sex of a skeleton is to look at the\\nbone structure. The hip or the pelvic area of women is generally\\nlarger to enable child bearing.\\nThese distinctions are based on modern skeletal studies.\\nAbout 2000 years ago, there was a famous physician named\\nCharaka who wrote a book on medicine known as the Charaka\\nSamhita. There he states that the human body has 360 bones. This\\nis a much larger number than the 200 bones that are recognised in\\nmodern anatomy. Charaka arrived at this figure by counting the\\nteeth, joints and cartilage.\\nHow do you think he found out about the human body in such\\ngreat detail?#$\\nArchaeologists have found seeds of wheat, barley,\\nrice, pulses, millets, peas and sesame. Bones of a\\nnumber of animals, many bearing cut marks that\\nshow they may have been used as food, have also\\nbeen found. These include cattle, buffalo, goat,\\nsheep, dog, horse, ass, pig, sambhar, spotted deer,\\nblackbuck, antelope, hare, and mongoose, besides\\nbirds, crocodile, turtle, crab and fish. There is\\nevidence that fruits such as ber, amla, jamun, dates\\nand a variety of berries were collected.\\nElsewhere\\nFind China in your atlas. Around 3500 years ago,\\nwe find some of the first evidence of writing in China.\\nThese writings were on animal bones. These are\\ncalled oracle bones, because they were used to\\npredict the future. Kings got scribes to write\\nquestions on the bones — would they win battles?#$\\nWould the harvest be good?#$ Would they have sons?#$\\nThe bones were then put into the fire, and they\\ncracked because of the heat. Then fortunetellers\\nstudied these cracks, and tried to predict the future.\\nAs you may expect, they sometimes made mistakes.\\nThese kings lived in palaces in cities. They\\namassed vast quantities of wealth, including large,\\nelaborately decorated bronze vessels. However, they\\ndid not know the use of iron.\\nList one difference between the raja of the Rigveda\\nand these kings.'"
            ]
          },
          "metadata": {
            "tags": []
          },
          "execution_count": 4
        }
      ]
    },
    {
      "cell_type": "code",
      "metadata": {
        "id": "TCKs0XFJzxX6"
      },
      "source": [
        "import re\n",
        "tst_L = re.split('[.|#$]',tst_str)\n"
      ],
      "execution_count": 5,
      "outputs": []
    },
    {
      "cell_type": "code",
      "metadata": {
        "colab": {
          "base_uri": "https://localhost:8080/"
        },
        "id": "tKq9dzZuJqgh",
        "outputId": "b795b857-9983-4931-b1b9-8f4d54968e1b"
      },
      "source": [
        "len(tst_L)"
      ],
      "execution_count": 6,
      "outputs": [
        {
          "output_type": "execute_result",
          "data": {
            "text/plain": [
              "175"
            ]
          },
          "metadata": {
            "tags": []
          },
          "execution_count": 6
        }
      ]
    },
    {
      "cell_type": "code",
      "metadata": {
        "id": "oBAU9vTI7EXP"
      },
      "source": [
        "final_L = []\n",
        "for i in range(len(tst_L)):\n",
        "  #print(i)\n",
        "  tst_L[i] = tst_L[i].replace('\\n',' ').replace('\\t',' ').replace('  ',' ')\n",
        "  if(tst_L[i].isspace() or len(tst_L[i])==0):\n",
        "    #print('This is deleted',tst_L[i])\n",
        "    pass\n",
        "  else:\n",
        "    final_L.append(tst_L[i])"
      ],
      "execution_count": 7,
      "outputs": []
    },
    {
      "cell_type": "code",
      "metadata": {
        "id": "Gm-dKP_k7gF1"
      },
      "source": [
        "final_L = list(set(final_L))"
      ],
      "execution_count": 8,
      "outputs": []
    },
    {
      "cell_type": "code",
      "metadata": {
        "colab": {
          "base_uri": "https://localhost:8080/"
        },
        "id": "EXVjAsAS8UL_",
        "outputId": "b22e617e-a3e1-4c5a-abb4-9c884aef5a08"
      },
      "source": [
        "len(final_L)"
      ],
      "execution_count": 9,
      "outputs": [
        {
          "output_type": "execute_result",
          "data": {
            "text/plain": [
              "159"
            ]
          },
          "metadata": {
            "tags": []
          },
          "execution_count": 9
        }
      ]
    },
    {
      "cell_type": "markdown",
      "metadata": {
        "id": "HdhQBWsbcd1P"
      },
      "source": [
        "Course and Number of Questions to test with USE"
      ]
    },
    {
      "cell_type": "code",
      "metadata": {
        "id": "Os-utSMTcPqf"
      },
      "source": [
        "data_used_for_demo = final_L.copy()"
      ],
      "execution_count": 10,
      "outputs": []
    },
    {
      "cell_type": "code",
      "metadata": {
        "colab": {
          "base_uri": "https://localhost:8080/"
        },
        "id": "jPEPYiPA8wuo",
        "outputId": "579c34b7-1030-4f5d-e994-a982d69fe20e"
      },
      "source": [
        "data_used_for_demo"
      ],
      "execution_count": 11,
      "outputs": [
        {
          "output_type": "execute_result",
          "data": {
            "text/plain": [
              "[' Offerings could include ghee, grain, and in some cases, animals',\n",
              " ' They also suggest that the sage lived in a society where horses and cows were valued animals',\n",
              " ' Sanskrit and other languages Sanskrit is part of a family of languages known as Indo-European',\n",
              " ' While some megaliths can be seen on the surface, other megalithic burials are often underground',\n",
              " ' One man was found buried in a large, four legged clay jar in the courtyard of a five-roomed house (one of the largest houses at the site), in the centre of the settlement',\n",
              " ' It is a site on the river Ghod, a tributary of the Bhima',\n",
              " ' This is a much larger number than the 200 bones that are recognised in modern anatomy',\n",
              " ' Vessels that probably contained food and water were placed with the dead',\n",
              " ' List the languages you have heard about and try and identify the families to which they belong',\n",
              " ' The bones were then put into the fire, and they cracked because of the heat',\n",
              " ' The practice of erecting megaliths began about 3000 years ago, and was prevalent throughout the Deccan, south India, in the north-east and Kashmir',\n",
              " ' Several vish or jana are mentioned by name',\n",
              " ' Vishvamitra: O sisters, please listen to me, the singer who has come from a distance with his chariots and carts',\n",
              " ' Cattle, horses and chariots There are many prayers in the Rigveda for cattle, children (especially sons), and horses',\n",
              " ' Let us find out One of the oldest books in the world You may have heard about the Vedas',\n",
              " ' Generally, the dead were buried with distinctive pots, which are called Black and Red Ware',\n",
              " ' Let your waters not rise above our axles, so that we can cross safely',\n",
              " ' Elsewhere Find China in your atlas',\n",
              " ' Often, men also wore ornaments',\n",
              " ' The word vaishya comes from vish',\n",
              " ' You move like chariots to the sea, through the power of Indra',\n",
              " ' The books we use are written and printed',\n",
              " ' Some battles were fought for water, and to capture people',\n",
              " ' Other rivers, especially the Indus and its other tributaries, and the Sarasvati, are also named in the hymns',\n",
              " ' Bones of a number of animals, many bearing cut marks that show they may have been used as food, have also been found',\n",
              " ' Once we start flowing, we cannot be stopped',\n",
              " ' Stone circles or boulders placed on the surface probably served as signposts to find the burial site, so that people could return to the same place whenever they wanted to',\n",
              " ' Some important megalithic sites are shown on Map 2 (page13)',\n",
              " ' The Rigveda was recited and heard rather than read',\n",
              " ' These hymns were composed by sages (rishis)',\n",
              " ' It is now preserved in a library in Pune, Maharashtra',\n",
              " ' The oldest Veda is the Rigveda, composed about 3500 years ago',\n",
              " ' It was written down several centuries after it was first composed, and printed less than 200 years ago',\n",
              " ' Some wealth was used for the performance of yajnas or sacrifices in which offerings were made into the fire',\n",
              " ' These finds suggest that there was some difference in status amongst the people who were buried',\n",
              " ' How do you think he found out about the human body in such great detail?',\n",
              " ' Historians point out that this hymn was composed in the area where these rivers flow',\n",
              " ' Seeing her trying to open the cupboard, the teacher said, “That cupboard has very special books on different religions',\n",
              " ' When Mary stepped inside, she found that the library was much larger than their classroom',\n",
              " ' The other was vish',\n",
              " ' Look at Map 1 (page 2) and list 5 rivers that are not mentioned in the Rigveda',\n",
              " ' There are four of them – the Rigveda, Samaveda, Yajurveda and Atharvaveda',\n",
              " ' There were several things that people did to make megaliths',\n",
              " ' While the Rigveda was being composed in the north-west of the subcontinent, there were other developments elsewhere',\n",
              " ' The Ganga and Yamuna are named only once',\n",
              " ' Let us see how they study the Rigveda',\n",
              " ' You will learn more about this in Chapter 5',\n",
              " ' Give reasons for your answer',\n",
              " ' What are the Vedas?',\n",
              " ' These were carefully arranged by people, and were used to mark burial sites',\n",
              " ' This house also had a granary',\n",
              " ' Charaka arrived at this figure by counting the teeth, joints and cartilage',\n",
              " ' These indicate that people, perhaps belonging to the same family, were buried in the same place though not at the same time',\n",
              " ' Do you think chariots were also important?',\n",
              " ' Generally, sons did not automatically succeed fathers as rajas',\n",
              " ' The Rigveda is in old or Vedic Sanskrit, which is different from the Sanskrit you learn in school these days',\n",
              " ' Would they have sons?',\n",
              " ' Battles were also fought for land, which was important for pasture, and for growing hardy crops that ripened quickly, such as barley',\n",
              " ' The hip or the pelvic area of women is generally larger to enable child bearing',\n",
              " ' There was no regular army, but there were assemblies where people met and discussed matters of war and peace',\n",
              " ' You are full of water and wish to unite with one another',\n",
              " ' That is why the rivers are compared to horses and cows',\n",
              " ' In one corner was a cupboard filled with large, old volumes',\n",
              " ' The Rigveda includes more than a thousand hymns, called sukta or “well-said”',\n",
              " ' Let us look at some of these',\n",
              " ' Here, adults were generally buried in the ground, laid out straight, with the head towards the north',\n",
              " ' These are called oracle bones, because they were used to predict the future',\n",
              " ' What skeletal studies tell us It is easy to make out the skeleton of a child from its small size',\n",
              " ' Some of the wealth that was obtained was kept by the leaders, some was given to the priests and the rest was distributed amongst the people',\n",
              " ' Sometimes burials were within the houses',\n",
              " ' So we find reference to the Puru jana or vish, the Bharata jana or vish, the Yadu jana or vish, and so on',\n",
              " ' These stone boulders are known as megaliths (literally big stones)',\n",
              " ' Some of the hymns in the Rigveda are in the form of dialogues',\n",
              " ' Read the verses and find out what are the modes of transport that are mentioned',\n",
              " ' About 2000 years ago, there was a famous physician named Charaka who wrote a book on medicine known as the Charaka Samhita',\n",
              " ' They were treated as the property of their owners, who could make them do whatever work they wanted',\n",
              " ' They are called a family because they originally had words in common',\n",
              " ' Some Indian languages such as Assamese, Gujarati, Hindi, Kashmiri and Sindhi; Asian languages such as Persian and many European languages such as English, French, German, Greek, Italian and Spanish belong to this family',\n",
              " ' Find the rivers on Map 1 (page 2), then read on: A page from a manuscript of the Rigveda',\n",
              " ' Did you know that we have a set of the Vedas”?',\n",
              " ' However, there are problems with this',\n",
              " ' Let us see some of the words used to describe people found in the Rigveda',\n",
              " 'Mary in the library As the bell rang, the teacher asked the students to follow him, because they were going to the library for the first time',\n",
              " ' These were people who did not perform sacrifices, and probably spoke different languages',\n",
              " ' Would the harvest be good?',\n",
              " ' For instance, those used in the north-east belong to the Tibeto-Burman family; Tamil, Telugu, Kannada and Malayalam belong to the Dravidian family; and the languages spoken in Jharkhand and parts of central India belong to the Austro-Asiatic family',\n",
              " ' Do any of these names sound familiar?',\n",
              " ' Was iron used in the Harappan cities?',\n",
              " ' However, there are no major differences in the bones of a girl and a boy',\n",
              " ' Sometimes, the people who composed the hymns described themselves as Aryas and called their opponents Dasas or Dasyus',\n",
              " ' There are two groups who are described in terms of their work — the priests, sometimes called brahmins, who performed various rituals, and the rajas',\n",
              " ' Three gods are especially important: Agni, the god of fire; Indra, a warrior god; and Soma, a plant from which a special drink was prepared',\n",
              " ' Silent sentinels—the story of the megaliths Look at the illustration on the next page',\n",
              " ' Other languages used in the subcontinent belong to different families',\n",
              " ' This manuscript of the Rigveda, on birch bark, was found in Kashmir',\n",
              " ' Also found are tools and weapons of iron and sometimes, skeletons of horses, horse equipment and ornaments of stone and gold',\n",
              " ' The bodies of those who died later were brought into the grave through the portholes',\n",
              " ' Sometimes, archaeologists find a circle of stone boulders or a single large stone standing on the ground',\n",
              " ' Later, the term dasa (and the feminine dasi) came to mean slave',\n",
              " ' They amassed vast quantities of wealth, including large, elaborately decorated bronze vessels',\n",
              " ' Horses were yoked to chariots that were used in battles, which were fought to capture cattle',\n",
              " ' They did not have capital cities, palaces or armies, nor did they collect taxes',\n",
              " ' Then fortunetellers studied these cracks, and tried to predict the future',\n",
              " ' There he states that the human body has 360 bones',\n",
              " ' The body was placed in a crosslegged position',\n",
              " ' One was the word jana, which we still use in Hindi and other languages',\n",
              " ' We have made a list here',\n",
              " ' There is evidence that fruits such as ber, amla, jamun, dates and a variety of berries were collected',\n",
              " ' A few were composed by women',\n",
              " ' And there were so many shelves, all full of books',\n",
              " ' Most of the hymns were composed, taught and learnt by men',\n",
              " ' This is part of one such hymn, a dialogue between a sage named Vishvamitra, and two rivers, (Beas and Sutlej) that were worshipped as goddesses',\n",
              " ' Two words were used to describe the people or the community as a whole',\n",
              " ' Kings got scribes to write questions on the bones — would they win battles?',\n",
              " ' Words to describe people There are several ways of describing people — in terms of the work they do, the language they speak, the place they belong to, their family, their communities and cultural practices',\n",
              " ' Slaves were women and men who were often captured in war',\n",
              " ' These kings lived in palaces in cities',\n",
              " ' Sometimes, megaliths contain more than one skeleton',\n",
              " ' Sometimes, people decide on the basis of what is found with the skeleton',\n",
              " ' These include cattle, buffalo, goat, sheep, dog, horse, ass, pig, sambhar, spotted deer, blackbuck, antelope, hare, and mongoose, besides birds, crocodile, turtle, crab and fish',\n",
              " ' These were meant for gods and goddesses',\n",
              " ' List one difference between the raja of the Rigveda and these kings',\n",
              " ' Do you notice any similarities?',\n",
              " ' Mary wondered',\n",
              " ' Some were rich, others poor, some chiefs, others followers',\n",
              " ' Sometimes, more objects are found in one grave than in another',\n",
              " ' Can we make out whether a skeleton was that of a man or a woman?',\n",
              " ' Most men took part in these wars',\n",
              " ' A better way of figuring out the sex of a skeleton is to look at the bone structure',\n",
              " ' A special burial at Inamgaon Find Inamgaon on Map 2 (page13)',\n",
              " ' Find Brahmagiri on Map 2 (page 13)',\n",
              " ' These rajas were not like the ones you will be learning about later',\n",
              " ' For instance, if a skeleton is found with jewellery, it is sometimes thought to be that of a woman',\n",
              " ' Were some burial spots meant for certain families?',\n",
              " ' Vishvamitra and the Rivers Vishvamitra: O rivers, come down from the mountains like two swift horses, like two shining cows that lick their calves',\n",
              " ' These writings were on animal bones',\n",
              " ' It was occupied between 3600 and 2700 years ago',\n",
              " ' Here, one skeleton was buried with 33 gold beads, 2 stone beads, 4 copper bangles, and one conch shell',\n",
              " ' Other skeletons have only a few pots',\n",
              " ' Try and arrange them in the correct order: digging pits in the earth, transporting stones, breaking boulders, placing stones in position, finding suitable stone, shaping stones, burying the dead',\n",
              " ' How historians study the Rigveda Historians, like archaeologists, find out about the past, but, in addition to material remains, they examine written sources as well',\n",
              " ' However, they did not know the use of iron',\n",
              " ' Finding out about social differences Archaeologists think that objects found with a skeleton probably belonged to the dead person',\n",
              " ' These are the only indications that there are burials beneath',\n",
              " ' Take the words ‘matr’ (Sanskrit), ‘ma’ (Hindi) and ‘mother’ (English)',\n",
              " ' They also chose leaders, who were often brave and skilful warriors',\n",
              " ' The rivers: We, who are full of water, move along the path the gods have made for us',\n",
              " ' Do you think this was the body of a chief?',\n",
              " ' Why do you pray to us, o sage?',\n",
              " ' These hymns are in praise of various gods and goddesses',\n",
              " ' As you may expect, they sometimes made mistakes',\n",
              " ' The rivers: We will listen to your prayers so that you can cross safely',\n",
              " ' Around 3500 years ago, we find some of the first evidence of writing in China',\n",
              " ' Read the previous section once more and see whether you can find out what the rajas did',\n",
              " ' About 150 years ago, it was used to prepare one of the earliest printed texts of the Rigveda, as well as an English translation',\n",
              " ' These distinctions are based on modern skeletal studies',\n",
              " ' All these burials have some common features',\n",
              " ' Archaeologists have found seeds of wheat, barley, rice, pulses, millets, peas and sesame',\n",
              " ' Priests taught students to recite and memorise each syllable, word, and sentence, bit by bit, with great care']"
            ]
          },
          "metadata": {
            "tags": []
          },
          "execution_count": 11
        }
      ]
    },
    {
      "cell_type": "code",
      "metadata": {
        "id": "TnVtv3iGc-zN"
      },
      "source": [
        "data_embeddings = embed(data_used_for_demo)"
      ],
      "execution_count": 16,
      "outputs": []
    },
    {
      "cell_type": "markdown",
      "metadata": {
        "id": "9di9Ek8Qa2mA"
      },
      "source": [
        "## TF-IDF Fill in the Blanks"
      ]
    },
    {
      "cell_type": "code",
      "metadata": {
        "id": "EL6mpd2CbE_S"
      },
      "source": [
        "# Word2Vec\n",
        "import spacy\n",
        "nlp = spacy.load(\"en_core_web_lg\")"
      ],
      "execution_count": 17,
      "outputs": []
    },
    {
      "cell_type": "code",
      "metadata": {
        "id": "Wo0zl0nJdTgr",
        "colab": {
          "base_uri": "https://localhost:8080/"
        },
        "outputId": "b0a97717-1b43-44c8-efcc-24ba1d5a4b27"
      },
      "source": [
        "#Checking Optimal K-Value\n",
        "from sklearn import metrics\n",
        "from sklearn.cluster import AgglomerativeClustering\n",
        "\n",
        "n_clus = [i for i in range(4,11)]\n",
        "scores = []\n",
        "\n",
        "for k in n_clus:\n",
        "    cluster = AgglomerativeClustering(k, affinity = 'euclidean', linkage = 'ward')\n",
        "    q_clusters = cluster.fit_predict(data_embeddings)\n",
        "    scores.append([k, metrics.silhouette_score(data_embeddings, q_clusters, metric='euclidean')])\n",
        "\n",
        "print(scores)\n",
        "best_score = sorted(scores, key = lambda x: x[1], reverse = True)[0][0]\n",
        "print(\"Optimal Cluster Number with silhoutte score is:\",best_score)\n"
      ],
      "execution_count": 18,
      "outputs": [
        {
          "output_type": "stream",
          "text": [
            "[[4, 0.039252557], [5, 0.036272567], [6, 0.039764453], [7, 0.031830795], [8, 0.03659603], [9, 0.031891547], [10, 0.03216068]]\n",
            "Optimal Cluster Number with silhoutte score is: 6\n"
          ],
          "name": "stdout"
        }
      ]
    },
    {
      "cell_type": "code",
      "metadata": {
        "colab": {
          "base_uri": "https://localhost:8080/",
          "height": 474
        },
        "id": "PVD1hgt1l9dB",
        "outputId": "da1e2075-4e02-4c10-b23a-f94041278ada"
      },
      "source": [
        "import pandas as pd\n",
        "n_clus = best_score\n",
        "#n_clus = 6\n",
        "cluster = AgglomerativeClustering(n_clus, affinity = 'euclidean', linkage = 'ward')\n",
        "q_clusters = cluster.fit_predict(data_embeddings)\n",
        "word_vecs = np.array(data_embeddings)\n",
        "grouped = {}\n",
        "for i in range(n_clus):\n",
        "    grouped[i] = []\n",
        "\n",
        "#print(q_clusters)\n",
        "for i in range(len(q_clusters)):\n",
        "    #print(i)\n",
        "    #print(q_clusters[i])\n",
        "    #print(grouped[q_clusters[i]])\n",
        "    grouped[q_clusters[i]].append(data_used_for_demo[i])    \n",
        "\n",
        "cluster_lens = [len(grouped[i]) for i in grouped.keys()]\n",
        "\n",
        "print('Cluster Sizes are:', cluster_lens)\n",
        "\n",
        "from sklearn import decomposition\n",
        "pca = decomposition.PCA()\n",
        "\n",
        "pca.n_components = 2\n",
        "pca_data = pca.fit_transform(word_vecs)\n",
        "\n",
        "import seaborn as sn\n",
        "import matplotlib.pyplot as plt\n",
        "\n",
        "pca_df = pd.DataFrame(data = pca_data, columns = ('1st_principal', '2nd_principal'))\n",
        "pca_df['label'] = q_clusters\n",
        "sn.FacetGrid(pca_df,hue = 'label', height = 6).map(plt.scatter, '1st_principal', '2nd_principal').add_legend()\n",
        "plt.title('Clusters for Text Sentences:Visualising with PCA(512 to 2 Dimensions)')\n",
        "#plt.savefig(\"init_op_\"+str(glb_cnt)+\".png\")\n",
        "plt.show()\n",
        "\n"
      ],
      "execution_count": 19,
      "outputs": [
        {
          "output_type": "stream",
          "text": [
            "Cluster Sizes are: [37, 32, 26, 26, 14, 24]\n"
          ],
          "name": "stdout"
        },
        {
          "output_type": "display_data",
          "data": {
            "image/png": "[encoded data removed]",
            "text/plain": [
              "<Figure size 474.375x432 with 1 Axes>"
            ]
          },
          "metadata": {
            "tags": [],
            "needs_background": "light"
          }
        }
      ]
    },
    {
      "cell_type": "code",
      "metadata": {
        "id": "oZWa-mvodTSr",
        "colab": {
          "base_uri": "https://localhost:8080/",
          "height": 1000
        },
        "outputId": "17a5fb25-264d-4637-9072-6538fa2310cd"
      },
      "source": [
        "print('Cluster Sizes are:', cluster_lens)\n",
        "for i in range(n_clus):\n",
        "  display(grouped[i])\n",
        "  print(\"Cluster\",i)"
      ],
      "execution_count": 20,
      "outputs": [
        {
          "output_type": "stream",
          "text": [
            "Cluster Sizes are: [37, 32, 26, 26, 14, 24]\n"
          ],
          "name": "stdout"
        },
        {
          "output_type": "display_data",
          "data": {
            "text/plain": [
              "[' While some megaliths can be seen on the surface, other megalithic burials are often underground',\n",
              " ' One man was found buried in a large, four legged clay jar in the courtyard of a five-roomed house (one of the largest houses at the site), in the centre of the settlement',\n",
              " ' This is a much larger number than the 200 bones that are recognised in modern anatomy',\n",
              " ' Vessels that probably contained food and water were placed with the dead',\n",
              " ' The bones were then put into the fire, and they cracked because of the heat',\n",
              " ' Generally, the dead were buried with distinctive pots, which are called Black and Red Ware',\n",
              " ' Bones of a number of animals, many bearing cut marks that show they may have been used as food, have also been found',\n",
              " ' Stone circles or boulders placed on the surface probably served as signposts to find the burial site, so that people could return to the same place whenever they wanted to',\n",
              " ' These finds suggest that there was some difference in status amongst the people who were buried',\n",
              " ' These were carefully arranged by people, and were used to mark burial sites',\n",
              " ' Charaka arrived at this figure by counting the teeth, joints and cartilage',\n",
              " ' These indicate that people, perhaps belonging to the same family, were buried in the same place though not at the same time',\n",
              " ' Here, adults were generally buried in the ground, laid out straight, with the head towards the north',\n",
              " ' These are called oracle bones, because they were used to predict the future',\n",
              " ' What skeletal studies tell us It is easy to make out the skeleton of a child from its small size',\n",
              " ' Sometimes burials were within the houses',\n",
              " ' These stone boulders are known as megaliths (literally big stones)',\n",
              " ' Also found are tools and weapons of iron and sometimes, skeletons of horses, horse equipment and ornaments of stone and gold',\n",
              " ' The bodies of those who died later were brought into the grave through the portholes',\n",
              " ' Sometimes, archaeologists find a circle of stone boulders or a single large stone standing on the ground',\n",
              " ' Then fortunetellers studied these cracks, and tried to predict the future',\n",
              " ' There he states that the human body has 360 bones',\n",
              " ' Sometimes, megaliths contain more than one skeleton',\n",
              " ' Sometimes, people decide on the basis of what is found with the skeleton',\n",
              " ' Sometimes, more objects are found in one grave than in another',\n",
              " ' Can we make out whether a skeleton was that of a man or a woman?',\n",
              " ' A better way of figuring out the sex of a skeleton is to look at the bone structure',\n",
              " ' For instance, if a skeleton is found with jewellery, it is sometimes thought to be that of a woman',\n",
              " ' Were some burial spots meant for certain families?',\n",
              " ' These writings were on animal bones',\n",
              " ' Here, one skeleton was buried with 33 gold beads, 2 stone beads, 4 copper bangles, and one conch shell',\n",
              " ' Other skeletons have only a few pots',\n",
              " ' Try and arrange them in the correct order: digging pits in the earth, transporting stones, breaking boulders, placing stones in position, finding suitable stone, shaping stones, burying the dead',\n",
              " ' Finding out about social differences Archaeologists think that objects found with a skeleton probably belonged to the dead person',\n",
              " ' These are the only indications that there are burials beneath',\n",
              " ' These distinctions are based on modern skeletal studies',\n",
              " ' All these burials have some common features']"
            ]
          },
          "metadata": {
            "tags": []
          }
        },
        {
          "output_type": "stream",
          "text": [
            "Cluster 0\n"
          ],
          "name": "stdout"
        },
        {
          "output_type": "display_data",
          "data": {
            "text/plain": [
              "[' Offerings could include ghee, grain, and in some cases, animals',\n",
              " ' Several vish or jana are mentioned by name',\n",
              " ' The word vaishya comes from vish',\n",
              " ' The books we use are written and printed',\n",
              " ' Some important megalithic sites are shown on Map 2 (page13)',\n",
              " ' How do you think he found out about the human body in such great detail?',\n",
              " ' Seeing her trying to open the cupboard, the teacher said, “That cupboard has very special books on different religions',\n",
              " ' When Mary stepped inside, she found that the library was much larger than their classroom',\n",
              " ' The other was vish',\n",
              " ' Generally, sons did not automatically succeed fathers as rajas',\n",
              " ' Would they have sons?',\n",
              " ' The hip or the pelvic area of women is generally larger to enable child bearing',\n",
              " ' In one corner was a cupboard filled with large, old volumes',\n",
              " ' Let us look at some of these',\n",
              " ' So we find reference to the Puru jana or vish, the Bharata jana or vish, the Yadu jana or vish, and so on',\n",
              " ' However, there are problems with this',\n",
              " 'Mary in the library As the bell rang, the teacher asked the students to follow him, because they were going to the library for the first time',\n",
              " ' Would the harvest be good?',\n",
              " ' Do any of these names sound familiar?',\n",
              " ' However, there are no major differences in the bones of a girl and a boy',\n",
              " ' The body was placed in a crosslegged position',\n",
              " ' We have made a list here',\n",
              " ' There is evidence that fruits such as ber, amla, jamun, dates and a variety of berries were collected',\n",
              " ' And there were so many shelves, all full of books',\n",
              " ' These include cattle, buffalo, goat, sheep, dog, horse, ass, pig, sambhar, spotted deer, blackbuck, antelope, hare, and mongoose, besides birds, crocodile, turtle, crab and fish',\n",
              " ' Do you notice any similarities?',\n",
              " ' Mary wondered',\n",
              " ' A special burial at Inamgaon Find Inamgaon on Map 2 (page13)',\n",
              " ' Find Brahmagiri on Map 2 (page 13)',\n",
              " ' Do you think this was the body of a chief?',\n",
              " ' As you may expect, they sometimes made mistakes',\n",
              " ' Archaeologists have found seeds of wheat, barley, rice, pulses, millets, peas and sesame']"
            ]
          },
          "metadata": {
            "tags": []
          }
        },
        {
          "output_type": "stream",
          "text": [
            "Cluster 1\n"
          ],
          "name": "stdout"
        },
        {
          "output_type": "display_data",
          "data": {
            "text/plain": [
              "[' The practice of erecting megaliths began about 3000 years ago, and was prevalent throughout the Deccan, south India, in the north-east and Kashmir',\n",
              " ' Let us find out One of the oldest books in the world You may have heard about the Vedas',\n",
              " ' The Rigveda was recited and heard rather than read',\n",
              " ' These hymns were composed by sages (rishis)',\n",
              " ' It is now preserved in a library in Pune, Maharashtra',\n",
              " ' The oldest Veda is the Rigveda, composed about 3500 years ago',\n",
              " ' It was written down several centuries after it was first composed, and printed less than 200 years ago',\n",
              " ' There are four of them – the Rigveda, Samaveda, Yajurveda and Atharvaveda',\n",
              " ' While the Rigveda was being composed in the north-west of the subcontinent, there were other developments elsewhere',\n",
              " ' Let us see how they study the Rigveda',\n",
              " ' What are the Vedas?',\n",
              " ' The Rigveda is in old or Vedic Sanskrit, which is different from the Sanskrit you learn in school these days',\n",
              " ' The Rigveda includes more than a thousand hymns, called sukta or “well-said”',\n",
              " ' Some of the hymns in the Rigveda are in the form of dialogues',\n",
              " ' About 2000 years ago, there was a famous physician named Charaka who wrote a book on medicine known as the Charaka Samhita',\n",
              " ' Did you know that we have a set of the Vedas”?',\n",
              " ' Let us see some of the words used to describe people found in the Rigveda',\n",
              " ' Three gods are especially important: Agni, the god of fire; Indra, a warrior god; and Soma, a plant from which a special drink was prepared',\n",
              " ' This manuscript of the Rigveda, on birch bark, was found in Kashmir',\n",
              " ' These were meant for gods and goddesses',\n",
              " ' List one difference between the raja of the Rigveda and these kings',\n",
              " ' It was occupied between 3600 and 2700 years ago',\n",
              " ' How historians study the Rigveda Historians, like archaeologists, find out about the past, but, in addition to material remains, they examine written sources as well',\n",
              " ' These hymns are in praise of various gods and goddesses',\n",
              " ' Around 3500 years ago, we find some of the first evidence of writing in China',\n",
              " ' About 150 years ago, it was used to prepare one of the earliest printed texts of the Rigveda, as well as an English translation']"
            ]
          },
          "metadata": {
            "tags": []
          }
        },
        {
          "output_type": "stream",
          "text": [
            "Cluster 2\n"
          ],
          "name": "stdout"
        },
        {
          "output_type": "display_data",
          "data": {
            "text/plain": [
              "[' It is a site on the river Ghod, a tributary of the Bhima',\n",
              " ' Vishvamitra: O sisters, please listen to me, the singer who has come from a distance with his chariots and carts',\n",
              " ' Cattle, horses and chariots There are many prayers in the Rigveda for cattle, children (especially sons), and horses',\n",
              " ' Let your waters not rise above our axles, so that we can cross safely',\n",
              " ' Elsewhere Find China in your atlas',\n",
              " ' You move like chariots to the sea, through the power of Indra',\n",
              " ' Other rivers, especially the Indus and its other tributaries, and the Sarasvati, are also named in the hymns',\n",
              " ' Once we start flowing, we cannot be stopped',\n",
              " ' Historians point out that this hymn was composed in the area where these rivers flow',\n",
              " ' Look at Map 1 (page 2) and list 5 rivers that are not mentioned in the Rigveda',\n",
              " ' The Ganga and Yamuna are named only once',\n",
              " ' You will learn more about this in Chapter 5',\n",
              " ' Give reasons for your answer',\n",
              " ' You are full of water and wish to unite with one another',\n",
              " ' That is why the rivers are compared to horses and cows',\n",
              " ' Read the verses and find out what are the modes of transport that are mentioned',\n",
              " ' Find the rivers on Map 1 (page 2), then read on: A page from a manuscript of the Rigveda',\n",
              " ' Silent sentinels—the story of the megaliths Look at the illustration on the next page',\n",
              " ' Horses were yoked to chariots that were used in battles, which were fought to capture cattle',\n",
              " ' This is part of one such hymn, a dialogue between a sage named Vishvamitra, and two rivers, (Beas and Sutlej) that were worshipped as goddesses',\n",
              " ' These rajas were not like the ones you will be learning about later',\n",
              " ' Vishvamitra and the Rivers Vishvamitra: O rivers, come down from the mountains like two swift horses, like two shining cows that lick their calves',\n",
              " ' The rivers: We, who are full of water, move along the path the gods have made for us',\n",
              " ' Why do you pray to us, o sage?',\n",
              " ' The rivers: We will listen to your prayers so that you can cross safely',\n",
              " ' Read the previous section once more and see whether you can find out what the rajas did']"
            ]
          },
          "metadata": {
            "tags": []
          }
        },
        {
          "output_type": "stream",
          "text": [
            "Cluster 3\n"
          ],
          "name": "stdout"
        },
        {
          "output_type": "display_data",
          "data": {
            "text/plain": [
              "[' Sanskrit and other languages Sanskrit is part of a family of languages known as Indo-European',\n",
              " ' List the languages you have heard about and try and identify the families to which they belong',\n",
              " ' They are called a family because they originally had words in common',\n",
              " ' Some Indian languages such as Assamese, Gujarati, Hindi, Kashmiri and Sindhi; Asian languages such as Persian and many European languages such as English, French, German, Greek, Italian and Spanish belong to this family',\n",
              " ' For instance, those used in the north-east belong to the Tibeto-Burman family; Tamil, Telugu, Kannada and Malayalam belong to the Dravidian family; and the languages spoken in Jharkhand and parts of central India belong to the Austro-Asiatic family',\n",
              " ' Sometimes, the people who composed the hymns described themselves as Aryas and called their opponents Dasas or Dasyus',\n",
              " ' There are two groups who are described in terms of their work — the priests, sometimes called brahmins, who performed various rituals, and the rajas',\n",
              " ' Other languages used in the subcontinent belong to different families',\n",
              " ' Later, the term dasa (and the feminine dasi) came to mean slave',\n",
              " ' One was the word jana, which we still use in Hindi and other languages',\n",
              " ' Two words were used to describe the people or the community as a whole',\n",
              " ' Words to describe people There are several ways of describing people — in terms of the work they do, the language they speak, the place they belong to, their family, their communities and cultural practices',\n",
              " ' Take the words ‘matr’ (Sanskrit), ‘ma’ (Hindi) and ‘mother’ (English)',\n",
              " ' Priests taught students to recite and memorise each syllable, word, and sentence, bit by bit, with great care']"
            ]
          },
          "metadata": {
            "tags": []
          }
        },
        {
          "output_type": "stream",
          "text": [
            "Cluster 4\n"
          ],
          "name": "stdout"
        },
        {
          "output_type": "display_data",
          "data": {
            "text/plain": [
              "[' They also suggest that the sage lived in a society where horses and cows were valued animals',\n",
              " ' Often, men also wore ornaments',\n",
              " ' Some battles were fought for water, and to capture people',\n",
              " ' Some wealth was used for the performance of yajnas or sacrifices in which offerings were made into the fire',\n",
              " ' There were several things that people did to make megaliths',\n",
              " ' This house also had a granary',\n",
              " ' Do you think chariots were also important?',\n",
              " ' Battles were also fought for land, which was important for pasture, and for growing hardy crops that ripened quickly, such as barley',\n",
              " ' There was no regular army, but there were assemblies where people met and discussed matters of war and peace',\n",
              " ' Some of the wealth that was obtained was kept by the leaders, some was given to the priests and the rest was distributed amongst the people',\n",
              " ' They were treated as the property of their owners, who could make them do whatever work they wanted',\n",
              " ' These were people who did not perform sacrifices, and probably spoke different languages',\n",
              " ' Was iron used in the Harappan cities?',\n",
              " ' They amassed vast quantities of wealth, including large, elaborately decorated bronze vessels',\n",
              " ' They did not have capital cities, palaces or armies, nor did they collect taxes',\n",
              " ' A few were composed by women',\n",
              " ' Most of the hymns were composed, taught and learnt by men',\n",
              " ' Kings got scribes to write questions on the bones — would they win battles?',\n",
              " ' Slaves were women and men who were often captured in war',\n",
              " ' These kings lived in palaces in cities',\n",
              " ' Some were rich, others poor, some chiefs, others followers',\n",
              " ' Most men took part in these wars',\n",
              " ' However, they did not know the use of iron',\n",
              " ' They also chose leaders, who were often brave and skilful warriors']"
            ]
          },
          "metadata": {
            "tags": []
          }
        },
        {
          "output_type": "stream",
          "text": [
            "Cluster 5\n"
          ],
          "name": "stdout"
        }
      ]
    },
    {
      "cell_type": "markdown",
      "metadata": {
        "id": "zTxt1W378TKl"
      },
      "source": [
        "### RAKE & YAKE Keyword Extraction TEST"
      ]
    },
    {
      "cell_type": "code",
      "metadata": {
        "colab": {
          "base_uri": "https://localhost:8080/"
        },
        "id": "gv5Py_nbW5Cv",
        "outputId": "efe6f7e0-0645-4fa3-aae9-e988fc6d78e2"
      },
      "source": [
        "#RAKE\n",
        "from rake_nltk import Rake\n",
        "r = Rake()\n",
        "r.extract_keywords_from_sentences(grouped[2])\n",
        "r.get_ranked_phrases_with_scores()"
      ],
      "execution_count": 21,
      "outputs": [
        {
          "output_type": "execute_result",
          "data": {
            "text/plain": [
              "[(15.0, 'famous physician named charaka'),\n",
              " (13.785714285714285, 'around 3500 years ago'),\n",
              " (9.785714285714285, '3500 years ago'),\n",
              " (9.285714285714285, '3000 years ago'),\n",
              " (9.285714285714285, '2700 years ago'),\n",
              " (9.285714285714285, '2000 years ago'),\n",
              " (9.285714285714285, '200 years ago'),\n",
              " (9.285714285714285, '150 years ago'),\n",
              " (9.0, 'let us see'),\n",
              " (9.0, 'erecting megaliths began'),\n",
              " (8.5, 'earliest printed texts'),\n",
              " (8.0, 'list one difference'),\n",
              " (8.0, 'let us find'),\n",
              " (8.0, 'examine written sources'),\n",
              " (8.0, 'describe people found'),\n",
              " (5.0, 'charaka samhita'),\n",
              " (4.5, 'printed less'),\n",
              " (4.0, 'special drink'),\n",
              " (4.0, 'south india'),\n",
              " (4.0, 'several centuries'),\n",
              " (4.0, 'said ”'),\n",
              " (4.0, 'prevalent throughout'),\n",
              " (4.0, 'prepare one'),\n",
              " (4.0, 'oldest veda'),\n",
              " (4.0, 'oldest books'),\n",
              " (4.0, 'medicine known'),\n",
              " (4.0, 'material remains'),\n",
              " (4.0, 'like archaeologists'),\n",
              " (4.0, 'first evidence'),\n",
              " (4.0, 'especially important'),\n",
              " (4.0, 'english translation'),\n",
              " (4.0, 'developments elsewhere'),\n",
              " (4.0, 'called sukta'),\n",
              " (4.0, 'birch bark'),\n",
              " (3.666666666666667, 'various gods'),\n",
              " (3.666666666666667, 'three gods'),\n",
              " (3.666666666666667, 'rigveda includes'),\n",
              " (3.666666666666667, 'rigveda historians'),\n",
              " (3.5, '“ well'),\n",
              " (3.5, 'words used'),\n",
              " (3.5, 'warrior god'),\n",
              " (3.5, 'vedic sanskrit'),\n",
              " (3.5, 'vedas ”?'),\n",
              " (3.5, 'thousand hymns'),\n",
              " (3.5, 'historians study'),\n",
              " (3.5, 'heard rather'),\n",
              " (3.5, 'first composed'),\n",
              " (2.0, 'written'),\n",
              " (2.0, 'one'),\n",
              " (2.0, 'found'),\n",
              " (2.0, 'find'),\n",
              " (1.6666666666666667, 'rigveda'),\n",
              " (1.6666666666666667, 'gods'),\n",
              " (1.5, 'well'),\n",
              " (1.5, 'vedas'),\n",
              " (1.5, 'used'),\n",
              " (1.5, 'study'),\n",
              " (1.5, 'sanskrit'),\n",
              " (1.5, 'hymns'),\n",
              " (1.5, 'heard'),\n",
              " (1.5, 'god'),\n",
              " (1.5, 'composed'),\n",
              " (1.0, '–'),\n",
              " (1.0, 'yajurveda'),\n",
              " (1.0, 'wrote'),\n",
              " (1.0, 'writing'),\n",
              " (1.0, 'world'),\n",
              " (1.0, 'west'),\n",
              " (1.0, 'subcontinent'),\n",
              " (1.0, 'soma'),\n",
              " (1.0, 'set'),\n",
              " (1.0, 'school'),\n",
              " (1.0, 'samaveda'),\n",
              " (1.0, 'sages'),\n",
              " (1.0, 'rishis'),\n",
              " (1.0, 'recited'),\n",
              " (1.0, 'read'),\n",
              " (1.0, 'raja'),\n",
              " (1.0, 'pune'),\n",
              " (1.0, 'preserved'),\n",
              " (1.0, 'prepared'),\n",
              " (1.0, 'praise'),\n",
              " (1.0, 'practice'),\n",
              " (1.0, 'plant'),\n",
              " (1.0, 'past'),\n",
              " (1.0, 'old'),\n",
              " (1.0, 'occupied'),\n",
              " (1.0, 'north'),\n",
              " (1.0, 'meant'),\n",
              " (1.0, 'may'),\n",
              " (1.0, 'manuscript'),\n",
              " (1.0, 'maharashtra'),\n",
              " (1.0, 'library'),\n",
              " (1.0, 'learn'),\n",
              " (1.0, 'know'),\n",
              " (1.0, 'kings'),\n",
              " (1.0, 'kashmir'),\n",
              " (1.0, 'indra'),\n",
              " (1.0, 'goddesses'),\n",
              " (1.0, 'four'),\n",
              " (1.0, 'form'),\n",
              " (1.0, 'fire'),\n",
              " (1.0, 'east'),\n",
              " (1.0, 'different'),\n",
              " (1.0, 'dialogues'),\n",
              " (1.0, 'deccan'),\n",
              " (1.0, 'days'),\n",
              " (1.0, 'china'),\n",
              " (1.0, 'book'),\n",
              " (1.0, 'atharvaveda'),\n",
              " (1.0, 'agni'),\n",
              " (1.0, 'addition'),\n",
              " (1.0, '3600')]"
            ]
          },
          "metadata": {
            "tags": []
          },
          "execution_count": 21
        }
      ]
    },
    {
      "cell_type": "code",
      "metadata": {
        "colab": {
          "base_uri": "https://localhost:8080/"
        },
        "id": "9O8ryosDbGT2",
        "outputId": "5a2f2249-b85b-4353-8868-dd50e0d79e97"
      },
      "source": [
        "#YAKE\n",
        "import yake\n",
        "kw_extractor = yake.KeywordExtractor()\n",
        "test_sent = grouped[2][0]\n",
        "for i in grouped[2][1:]:\n",
        "  if(i[-1]=='?'):\n",
        "    test_sent+= i\n",
        "  else:\n",
        "    test_sent+= '.'\n",
        "    test_sent+=i\n",
        "print(test_sent)\n",
        "keywords = kw_extractor.extract_keywords(test_sent)\n",
        "print(keywords)\n",
        "for kw in keywords:\n",
        "  print(kw)"
      ],
      "execution_count": 22,
      "outputs": [
        {
          "output_type": "stream",
          "text": [
            " The practice of erecting megaliths began about 3000 years ago, and was prevalent throughout the Deccan, south India, in the north-east and Kashmir. Let us find out One of the oldest books in the world You may have heard about the Vedas. The Rigveda was recited and heard rather than read. These hymns were composed by sages (rishis). It is now preserved in a library in Pune, Maharashtra. The oldest Veda is the Rigveda, composed about 3500 years ago. It was written down several centuries after it was first composed, and printed less than 200 years ago. There are four of them – the Rigveda, Samaveda, Yajurveda and Atharvaveda. While the Rigveda was being composed in the north-west of the subcontinent, there were other developments elsewhere. Let us see how they study the Rigveda What are the Vedas?. The Rigveda is in old or Vedic Sanskrit, which is different from the Sanskrit you learn in school these days. The Rigveda includes more than a thousand hymns, called sukta or “well-said”. Some of the hymns in the Rigveda are in the form of dialogues. About 2000 years ago, there was a famous physician named Charaka who wrote a book on medicine known as the Charaka Samhita Did you know that we have a set of the Vedas”?. Let us see some of the words used to describe people found in the Rigveda. Three gods are especially important: Agni, the god of fire; Indra, a warrior god; and Soma, a plant from which a special drink was prepared. This manuscript of the Rigveda, on birch bark, was found in Kashmir. These were meant for gods and goddesses. List one difference between the raja of the Rigveda and these kings. It was occupied between 3600 and 2700 years ago. How historians study the Rigveda Historians, like archaeologists, find out about the past, but, in addition to material remains, they examine written sources as well. These hymns are in praise of various gods and goddesses. Around 3500 years ago, we find some of the first evidence of writing in China. About 150 years ago, it was used to prepare one of the earliest printed texts of the Rigveda, as well as an English translation\n",
            "[('Rigveda', 0.011924969439908784), ('erecting megaliths began', 0.012110596727436269), ('years ago', 0.013314031973082537), ('south India', 0.014134466430925897), ('years', 0.04171154909308388), ('ago', 0.04171154909308388), ('practice of erecting', 0.05074469533439022), ('erecting megaliths', 0.05074469533439022), ('megaliths began', 0.05074469533439022), ('study the Rigveda', 0.05359830896145089), ('Deccan', 0.06628965372659665), ('India', 0.06628965372659665), ('Vedas', 0.08321914209093695), ('Rigveda Historians', 0.08599622363732147), ('composed', 0.10918219736818367), ('hymns', 0.12213725881740901), ('Rigveda includes', 0.13037532473771396), ('oldest Veda', 0.13609870986120878), ('north-east and Kashmir', 0.162874396584032), ('gods', 0.16411999196526672)]\n",
            "('Rigveda', 0.011924969439908784)\n",
            "('erecting megaliths began', 0.012110596727436269)\n",
            "('years ago', 0.013314031973082537)\n",
            "('south India', 0.014134466430925897)\n",
            "('years', 0.04171154909308388)\n",
            "('ago', 0.04171154909308388)\n",
            "('practice of erecting', 0.05074469533439022)\n",
            "('erecting megaliths', 0.05074469533439022)\n",
            "('megaliths began', 0.05074469533439022)\n",
            "('study the Rigveda', 0.05359830896145089)\n",
            "('Deccan', 0.06628965372659665)\n",
            "('India', 0.06628965372659665)\n",
            "('Vedas', 0.08321914209093695)\n",
            "('Rigveda Historians', 0.08599622363732147)\n",
            "('composed', 0.10918219736818367)\n",
            "('hymns', 0.12213725881740901)\n",
            "('Rigveda includes', 0.13037532473771396)\n",
            "('oldest Veda', 0.13609870986120878)\n",
            "('north-east and Kashmir', 0.162874396584032)\n",
            "('gods', 0.16411999196526672)\n"
          ],
          "name": "stdout"
        }
      ]
    },
    {
      "cell_type": "markdown",
      "metadata": {
        "id": "oReHPpOf8dyA"
      },
      "source": [
        "### CUSTOM ALGORITHM BASED ON TF-IDF\n",
        "1. Filter Stop Words, Verbs, Adjectives, Adverbs & related\n",
        "2. Create Corpus of List of words per cluster\n",
        "3. Implement TF-IDF Scoring\n",
        "4. Filter out Top Keywords\n",
        "5. Randomly take 50% for each cluster\n",
        "6. Generate Fill in the Blanks\n",
        "7. Filter for UI based on User Input\n",
        "8. Generate options \n",
        "9. For Blank Keyword, get replacement from other clusters\n",
        "10. Ready!"
      ]
    },
    {
      "cell_type": "code",
      "metadata": {
        "id": "VidJTULCdAXw"
      },
      "source": [
        "# Finding Keywords for Fill in the Blanks\n",
        "# Using Data : Removed Stop Words and Lemmatization\n",
        "custom_stop_words = ['TABLE', 'OBSERVATIONS', 'ACTIVITY', 'ILLUSTRATION', 'FIG', 'FIGURE', 'YEARS', 'MAP', 'CHAPTER', 'SECTION', 'DIAGRAM', 'EXAMPLES', 'OBJECTS', 'GROUPS']\n",
        "new_data2 = []\n",
        "for clus in grouped:\n",
        "  clus_list = []\n",
        "  for sent in grouped[clus]:\n",
        "          temp_lst = []\n",
        "          tokens = nlp(sent)\n",
        "          #print(list(tokens))\n",
        "          for token in tokens:\n",
        "              if(not token.is_punct and not token.is_stop and token.lemma_ != ' '):\n",
        "                if(token.pos_=='VERB' or token.pos_=='ADJ' or token.pos_ == 'ADV' or token.pos_ == 'ADP' or token.pos_ == 'PRON' or token.pos_ == 'AUX' or token.pos_ == 'CONJ' or token.pos_ == 'DET'):\n",
        "                  #print(token)\n",
        "                  pass\n",
        "                else:\n",
        "                  if(len(token.text)>2 and (token.text.upper() not in custom_stop_words) and (not token.text.isspace())):\n",
        "                    temp_lst.append(token.text.upper())\n",
        "          if(len(temp_lst)):\n",
        "            clus_list.append(temp_lst)\n",
        "  new_data2.append(clus_list)"
      ],
      "execution_count": 23,
      "outputs": []
    },
    {
      "cell_type": "code",
      "metadata": {
        "colab": {
          "base_uri": "https://localhost:8080/"
        },
        "id": "nZ8mgDMedGTX",
        "outputId": "c6e38471-4ebb-4b0e-f150-650c74547eb1"
      },
      "source": [
        "new_data2"
      ],
      "execution_count": 24,
      "outputs": [
        {
          "output_type": "execute_result",
          "data": {
            "text/plain": [
              "[[['MEGALITHS', 'SURFACE', 'BURIALS'],\n",
              "  ['MAN',\n",
              "   'CLAY',\n",
              "   'JAR',\n",
              "   'COURTYARD',\n",
              "   'HOUSE',\n",
              "   'HOUSES',\n",
              "   'SITE',\n",
              "   'CENTRE',\n",
              "   'SETTLEMENT'],\n",
              "  ['NUMBER', '200', 'BONES', 'ANATOMY'],\n",
              "  ['VESSELS', 'FOOD', 'WATER'],\n",
              "  ['BONES', 'FIRE', 'HEAT'],\n",
              "  ['POTS', 'BLACK', 'RED', 'WARE'],\n",
              "  ['BONES', 'NUMBER', 'ANIMALS', 'BEARING', 'CUT', 'MARKS', 'FOOD'],\n",
              "  ['STONE',\n",
              "   'CIRCLES',\n",
              "   'BOULDERS',\n",
              "   'SURFACE',\n",
              "   'SIGNPOSTS',\n",
              "   'BURIAL',\n",
              "   'SITE',\n",
              "   'PEOPLE',\n",
              "   'PLACE'],\n",
              "  ['FINDS', 'DIFFERENCE', 'STATUS', 'PEOPLE'],\n",
              "  ['PEOPLE', 'BURIAL', 'SITES'],\n",
              "  ['CHARAKA', 'TEETH', 'JOINTS', 'CARTILAGE'],\n",
              "  ['PEOPLE', 'FAMILY', 'PLACE', 'TIME'],\n",
              "  ['ADULTS', 'GROUND', 'HEAD', 'NORTH'],\n",
              "  ['ORACLE', 'BONES', 'FUTURE'],\n",
              "  ['STUDIES', 'SKELETON', 'CHILD', 'SIZE'],\n",
              "  ['BURIALS', 'HOUSES'],\n",
              "  ['STONE', 'BOULDERS', 'MEGALITHS', 'STONES'],\n",
              "  ['TOOLS',\n",
              "   'WEAPONS',\n",
              "   'IRON',\n",
              "   'SKELETONS',\n",
              "   'HORSES',\n",
              "   'HORSE',\n",
              "   'EQUIPMENT',\n",
              "   'ORNAMENTS',\n",
              "   'STONE',\n",
              "   'GOLD'],\n",
              "  ['BODIES', 'GRAVE', 'PORTHOLES'],\n",
              "  ['ARCHAEOLOGISTS', 'CIRCLE', 'STONE', 'BOULDERS', 'STONE', 'GROUND'],\n",
              "  ['FORTUNETELLERS', 'CRACKS', 'FUTURE'],\n",
              "  ['BODY', '360', 'BONES'],\n",
              "  ['MEGALITHS', 'SKELETON'],\n",
              "  ['PEOPLE', 'BASIS', 'SKELETON'],\n",
              "  ['GRAVE'],\n",
              "  ['SKELETON', 'MAN', 'WOMAN'],\n",
              "  ['WAY', 'SEX', 'SKELETON', 'BONE', 'STRUCTURE'],\n",
              "  ['INSTANCE', 'SKELETON', 'JEWELLERY', 'WOMAN'],\n",
              "  ['SPOTS', 'FAMILIES'],\n",
              "  ['WRITINGS', 'ANIMAL', 'BONES'],\n",
              "  ['SKELETON',\n",
              "   'BEADS',\n",
              "   'STONE',\n",
              "   'BEADS',\n",
              "   'COPPER',\n",
              "   'BANGLES',\n",
              "   'CONCH',\n",
              "   'SHELL'],\n",
              "  ['SKELETONS', 'POTS'],\n",
              "  ['ORDER',\n",
              "   'PITS',\n",
              "   'EARTH',\n",
              "   'STONES',\n",
              "   'BOULDERS',\n",
              "   'STONES',\n",
              "   'POSITION',\n",
              "   'STONE',\n",
              "   'STONES'],\n",
              "  ['DIFFERENCES', 'ARCHAEOLOGISTS', 'SKELETON', 'PERSON'],\n",
              "  ['INDICATIONS', 'BURIALS'],\n",
              "  ['DISTINCTIONS', 'STUDIES'],\n",
              "  ['BURIALS', 'FEATURES']],\n",
              " [['OFFERINGS', 'GHEE', 'GRAIN', 'CASES', 'ANIMALS'],\n",
              "  ['VISH', 'JANA'],\n",
              "  ['WORD', 'VAISHYA', 'VISH'],\n",
              "  ['BOOKS'],\n",
              "  ['SITES', 'PAGE13'],\n",
              "  ['BODY', 'DETAIL'],\n",
              "  ['CUPBOARD', 'TEACHER', 'CUPBOARD', 'BOOKS', 'RELIGIONS'],\n",
              "  ['MARY', 'LIBRARY', 'CLASSROOM'],\n",
              "  ['VISH'],\n",
              "  ['SONS', 'FATHERS', 'RAJAS'],\n",
              "  ['SONS'],\n",
              "  ['HIP', 'AREA', 'WOMEN', 'CHILD', 'BEARING'],\n",
              "  ['CORNER', 'CUPBOARD', 'VOLUMES'],\n",
              "  ['REFERENCE',\n",
              "   'PURU',\n",
              "   'JANA',\n",
              "   'VISH',\n",
              "   'BHARATA',\n",
              "   'JANA',\n",
              "   'VISH',\n",
              "   'YADU',\n",
              "   'JANA',\n",
              "   'VISH'],\n",
              "  ['PROBLEMS'],\n",
              "  ['MARY',\n",
              "   'LIBRARY',\n",
              "   'BELL',\n",
              "   'RANG',\n",
              "   'TEACHER',\n",
              "   'STUDENTS',\n",
              "   'LIBRARY',\n",
              "   'TIME'],\n",
              "  ['HARVEST'],\n",
              "  ['NAMES'],\n",
              "  ['DIFFERENCES', 'BONES', 'GIRL', 'BOY'],\n",
              "  ['BODY', 'POSITION'],\n",
              "  ['LIST'],\n",
              "  ['EVIDENCE',\n",
              "   'FRUITS',\n",
              "   'BER',\n",
              "   'AMLA',\n",
              "   'JAMUN',\n",
              "   'DATES',\n",
              "   'VARIETY',\n",
              "   'BERRIES'],\n",
              "  ['SHELVES', 'BOOKS'],\n",
              "  ['CATTLE',\n",
              "   'BUFFALO',\n",
              "   'GOAT',\n",
              "   'SHEEP',\n",
              "   'DOG',\n",
              "   'HORSE',\n",
              "   'ASS',\n",
              "   'PIG',\n",
              "   'SAMBHAR',\n",
              "   'DEER',\n",
              "   'BLACKBUCK',\n",
              "   'ANTELOPE',\n",
              "   'HARE',\n",
              "   'MONGOOSE',\n",
              "   'BIRDS',\n",
              "   'CROCODILE',\n",
              "   'TURTLE',\n",
              "   'CRAB',\n",
              "   'FISH'],\n",
              "  ['SIMILARITIES'],\n",
              "  ['MARY'],\n",
              "  ['BURIAL', 'INAMGAON', 'INAMGAON', 'PAGE13'],\n",
              "  ['BRAHMAGIRI', 'PAGE'],\n",
              "  ['BODY', 'CHIEF'],\n",
              "  ['MISTAKES'],\n",
              "  ['ARCHAEOLOGISTS',\n",
              "   'SEEDS',\n",
              "   'WHEAT',\n",
              "   'BARLEY',\n",
              "   'RICE',\n",
              "   'PULSES',\n",
              "   'MILLETS',\n",
              "   'PEAS',\n",
              "   'SESAME']],\n",
              " [['PRACTICE',\n",
              "   'MEGALITHS',\n",
              "   '3000',\n",
              "   'DECCAN',\n",
              "   'SOUTH',\n",
              "   'INDIA',\n",
              "   'NORTH',\n",
              "   'EAST',\n",
              "   'KASHMIR'],\n",
              "  ['BOOKS', 'WORLD', 'VEDAS'],\n",
              "  ['RIGVEDA'],\n",
              "  ['HYMNS', 'SAGES', 'RISHIS'],\n",
              "  ['LIBRARY', 'PUNE', 'MAHARASHTRA'],\n",
              "  ['VEDA', 'RIGVEDA', '3500'],\n",
              "  ['CENTURIES', '200'],\n",
              "  ['RIGVEDA', 'SAMAVEDA', 'YAJURVEDA', 'ATHARVAVEDA'],\n",
              "  ['RIGVEDA', 'NORTH', 'WEST', 'SUBCONTINENT', 'DEVELOPMENTS'],\n",
              "  ['RIGVEDA'],\n",
              "  ['VEDAS'],\n",
              "  ['RIGVEDA', 'VEDIC', 'SANSKRIT', 'SANSKRIT', 'SCHOOL', 'DAYS'],\n",
              "  ['RIGVEDA', 'THOUSAND', 'HYMNS', 'SUKTA'],\n",
              "  ['HYMNS', 'RIGVEDA', 'FORM', 'DIALOGUES'],\n",
              "  ['2000', 'PHYSICIAN', 'CHARAKA', 'BOOK', 'MEDICINE', 'CHARAKA', 'SAMHITA'],\n",
              "  ['SET', 'VEDAS'],\n",
              "  ['WORDS', 'PEOPLE', 'RIGVEDA'],\n",
              "  ['GODS',\n",
              "   'AGNI',\n",
              "   'GOD',\n",
              "   'FIRE',\n",
              "   'INDRA',\n",
              "   'WARRIOR',\n",
              "   'GOD',\n",
              "   'SOMA',\n",
              "   'PLANT',\n",
              "   'DRINK'],\n",
              "  ['MANUSCRIPT', 'RIGVEDA', 'BIRCH', 'BARK', 'KASHMIR'],\n",
              "  ['GODS', 'GODDESSES'],\n",
              "  ['LIST', 'DIFFERENCE', 'RAJA', 'RIGVEDA', 'KINGS'],\n",
              "  ['3600', '2700'],\n",
              "  ['HISTORIANS',\n",
              "   'RIGVEDA',\n",
              "   'HISTORIANS',\n",
              "   'LIKE',\n",
              "   'ARCHAEOLOGISTS',\n",
              "   'PAST',\n",
              "   'ADDITION',\n",
              "   'MATERIAL',\n",
              "   'REMAINS',\n",
              "   'SOURCES'],\n",
              "  ['HYMNS', 'PRAISE', 'GODS', 'GODDESSES'],\n",
              "  ['3500', 'EVIDENCE', 'WRITING', 'CHINA'],\n",
              "  ['150', 'TEXTS', 'RIGVEDA', 'TRANSLATION']],\n",
              " [['SITE', 'RIVER', 'GHOD', 'TRIBUTARY', 'BHIMA'],\n",
              "  ['VISHVAMITRA', 'SISTERS', 'SINGER', 'DISTANCE', 'CHARIOTS', 'CARTS'],\n",
              "  ['CATTLE',\n",
              "   'HORSES',\n",
              "   'CHARIOTS',\n",
              "   'PRAYERS',\n",
              "   'RIGVEDA',\n",
              "   'CATTLE',\n",
              "   'CHILDREN',\n",
              "   'SONS',\n",
              "   'HORSES'],\n",
              "  ['WATERS', 'AXLES'],\n",
              "  ['CHINA', 'ATLAS'],\n",
              "  ['LIKE', 'CHARIOTS', 'SEA', 'POWER', 'INDRA'],\n",
              "  ['RIVERS', 'INDUS', 'TRIBUTARIES', 'SARASVATI', 'HYMNS'],\n",
              "  ['HISTORIANS', 'HYMN', 'AREA', 'RIVERS'],\n",
              "  ['PAGE', 'RIVERS', 'RIGVEDA'],\n",
              "  ['GANGA', 'YAMUNA'],\n",
              "  ['REASONS', 'ANSWER'],\n",
              "  ['WATER'],\n",
              "  ['RIVERS', 'HORSES', 'COWS'],\n",
              "  ['VERSES', 'MODES', 'TRANSPORT'],\n",
              "  ['RIVERS', 'PAGE', 'PAGE', 'MANUSCRIPT', 'RIGVEDA'],\n",
              "  ['SENTINELS', 'STORY', 'MEGALITHS', 'PAGE'],\n",
              "  ['HORSES', 'CHARIOTS', 'BATTLES', 'CATTLE'],\n",
              "  ['HYMN',\n",
              "   'DIALOGUE',\n",
              "   'SAGE',\n",
              "   'VISHVAMITRA',\n",
              "   'RIVERS',\n",
              "   'BEAS',\n",
              "   'SUTLEJ',\n",
              "   'GODDESSES'],\n",
              "  ['RAJAS', 'LIKE', 'ONES'],\n",
              "  ['VISHVAMITRA',\n",
              "   'RIVERS',\n",
              "   'VISHVAMITRA',\n",
              "   'RIVERS',\n",
              "   'MOUNTAINS',\n",
              "   'LIKE',\n",
              "   'HORSES',\n",
              "   'LIKE',\n",
              "   'COWS',\n",
              "   'CALVES'],\n",
              "  ['RIVERS', 'WATER', 'PATH', 'GODS'],\n",
              "  ['SAGE'],\n",
              "  ['RIVERS', 'PRAYERS'],\n",
              "  ['RAJAS']],\n",
              " [['LANGUAGES', 'FAMILY', 'LANGUAGES', 'INDO', 'EUROPEAN'],\n",
              "  ['LANGUAGES', 'FAMILIES'],\n",
              "  ['FAMILY', 'WORDS'],\n",
              "  ['LANGUAGES',\n",
              "   'GUJARATI',\n",
              "   'HINDI',\n",
              "   'KASHMIRI',\n",
              "   'LANGUAGES',\n",
              "   'LANGUAGES',\n",
              "   'ENGLISH',\n",
              "   'SPANISH',\n",
              "   'FAMILY'],\n",
              "  ['INSTANCE',\n",
              "   'NORTH',\n",
              "   'EAST',\n",
              "   'TIBETO',\n",
              "   'BURMAN',\n",
              "   'FAMILY',\n",
              "   'TAMIL',\n",
              "   'TELUGU',\n",
              "   'KANNADA',\n",
              "   'MALAYALAM',\n",
              "   'FAMILY',\n",
              "   'LANGUAGES',\n",
              "   'JHARKHAND',\n",
              "   'PARTS',\n",
              "   'INDIA',\n",
              "   'AUSTRO',\n",
              "   'FAMILY'],\n",
              "  ['PEOPLE', 'HYMNS', 'ARYAS', 'OPPONENTS', 'DASAS', 'DASYUS'],\n",
              "  ['TERMS', 'WORK', 'PRIESTS', 'BRAHMINS', 'RITUALS', 'RAJAS'],\n",
              "  ['LANGUAGES', 'SUBCONTINENT', 'FAMILIES'],\n",
              "  ['TERM', 'DASA', 'DASI', 'SLAVE'],\n",
              "  ['WORD', 'JANA', 'HINDI', 'LANGUAGES'],\n",
              "  ['WORDS', 'PEOPLE', 'COMMUNITY'],\n",
              "  ['WORDS',\n",
              "   'PEOPLE',\n",
              "   'WAYS',\n",
              "   'PEOPLE',\n",
              "   'TERMS',\n",
              "   'WORK',\n",
              "   'LANGUAGE',\n",
              "   'PLACE',\n",
              "   'FAMILY',\n",
              "   'COMMUNITIES',\n",
              "   'PRACTICES'],\n",
              "  ['WORDS', 'MATR', 'SANSKRIT', 'HINDI', 'MOTHER', 'ENGLISH'],\n",
              "  ['PRIESTS',\n",
              "   'STUDENTS',\n",
              "   'SYLLABLE',\n",
              "   'WORD',\n",
              "   'SENTENCE',\n",
              "   'BIT',\n",
              "   'BIT',\n",
              "   'CARE']],\n",
              " [['SAGE', 'SOCIETY', 'HORSES', 'COWS', 'ANIMALS'],\n",
              "  ['MEN', 'ORNAMENTS'],\n",
              "  ['BATTLES', 'WATER', 'PEOPLE'],\n",
              "  ['WEALTH', 'PERFORMANCE', 'YAJNAS', 'SACRIFICES', 'OFFERINGS', 'FIRE'],\n",
              "  ['THINGS', 'PEOPLE', 'MEGALITHS'],\n",
              "  ['HOUSE', 'GRANARY'],\n",
              "  ['CHARIOTS'],\n",
              "  ['BATTLES', 'LAND', 'PASTURE', 'CROPS', 'BARLEY'],\n",
              "  ['ARMY', 'ASSEMBLIES', 'PEOPLE', 'MATTERS', 'WAR', 'PEACE'],\n",
              "  ['WEALTH', 'LEADERS', 'PRIESTS', 'REST', 'PEOPLE'],\n",
              "  ['PROPERTY', 'OWNERS', 'WORK'],\n",
              "  ['PEOPLE', 'SACRIFICES', 'LANGUAGES'],\n",
              "  ['IRON', 'HARAPPAN', 'CITIES'],\n",
              "  ['QUANTITIES', 'WEALTH', 'BRONZE', 'VESSELS'],\n",
              "  ['CAPITAL', 'CITIES', 'PALACES', 'ARMIES', 'TAXES'],\n",
              "  ['WOMEN'],\n",
              "  ['HYMNS', 'MEN'],\n",
              "  ['KINGS', 'SCRIBES', 'QUESTIONS', 'BONES', 'BATTLES'],\n",
              "  ['SLAVES', 'WOMEN', 'MEN', 'WAR'],\n",
              "  ['KINGS', 'PALACES', 'CITIES'],\n",
              "  ['CHIEFS', 'FOLLOWERS'],\n",
              "  ['MEN', 'WARS'],\n",
              "  ['USE', 'IRON'],\n",
              "  ['LEADERS', 'WARRIORS']]]"
            ]
          },
          "metadata": {
            "tags": []
          },
          "execution_count": 24
        }
      ]
    },
    {
      "cell_type": "code",
      "metadata": {
        "id": "0rH-EPWMa1n5"
      },
      "source": [
        "def tf(term, doc):\n",
        "    #doc is a list of terms\n",
        "    cnt = doc.count(term)\n",
        "    doc_dic = {i: doc.count(i) for  i in set(doc)}\n",
        "    max_w = max(doc_dic.values())\n",
        "    #tf_val = 0.5 + (0.5*cnt/max_w)\n",
        "    tf_val = (cnt/max_w)\n",
        "    return tf_val"
      ],
      "execution_count": 25,
      "outputs": []
    },
    {
      "cell_type": "code",
      "metadata": {
        "id": "DlCG_Or7bAKh"
      },
      "source": [
        "def idf(term, corpus):\n",
        "    #corpus list of lists of terms\n",
        "    c = len(corpus) #Number of docs\n",
        "    doc_cnt = 0\n",
        "    for doc in corpus:\n",
        "        if(term in doc):\n",
        "            doc_cnt+=1\n",
        "    return math.log((c/doc_cnt), 10)"
      ],
      "execution_count": 26,
      "outputs": []
    },
    {
      "cell_type": "code",
      "metadata": {
        "id": "YrvacAycffcr"
      },
      "source": [
        "def Get_Keywords(clus):\n",
        "    corpus_list = [] #list of lists of clusters\n",
        "    for docs in clus: #All clusters\n",
        "      clus_list = []\n",
        "      for doc in docs: #Sentence in that cluster\n",
        "          clus_list.extend(doc)\n",
        "      new_clus_list = list(set(clus_list))\n",
        "      corpus_list.append(new_clus_list)\n",
        "    #print(len(corpus_list))\n",
        "    scores_list = []  #should contain all scores of words cluster wise\n",
        "    for clus in corpus_list:\n",
        "      clus_scores = []\n",
        "      for word in clus:\n",
        "              \n",
        "              #print(doc)\n",
        "              #print(token, tf(token.text, doc))\n",
        "              clus_scores.append((word,tf(word, clus)*idf(word, corpus_list)))\n",
        "      clus_scores.sort(key = lambda x: x[1], reverse = True)\n",
        "      scores_list.append(clus_scores)\n",
        "\n",
        "      \n",
        "      \n",
        "    return scores_list\n",
        "            \n",
        "    \n",
        "    \n",
        "    "
      ],
      "execution_count": 27,
      "outputs": []
    },
    {
      "cell_type": "code",
      "metadata": {
        "id": "4ldsFqw5mPD5"
      },
      "source": [
        "tst_scores = Get_Keywords(new_data2)\n"
      ],
      "execution_count": 28,
      "outputs": []
    },
    {
      "cell_type": "code",
      "metadata": {
        "colab": {
          "base_uri": "https://localhost:8080/"
        },
        "id": "DDkSNOg7pFVP",
        "outputId": "65fbd6f9-5818-4bf5-ac99-07d7c90a8af9"
      },
      "source": [
        "len(tst_scores)"
      ],
      "execution_count": 29,
      "outputs": [
        {
          "output_type": "execute_result",
          "data": {
            "text/plain": [
              "6"
            ]
          },
          "metadata": {
            "tags": []
          },
          "execution_count": 29
        }
      ]
    },
    {
      "cell_type": "code",
      "metadata": {
        "colab": {
          "base_uri": "https://localhost:8080/"
        },
        "id": "cbQ-b-LHp-b5",
        "outputId": "73af7364-2ca9-4797-a1c0-d3136b633e34"
      },
      "source": [
        "tst_scores"
      ],
      "execution_count": 30,
      "outputs": [
        {
          "output_type": "execute_result",
          "data": {
            "text/plain": [
              "[[('BURIALS', 0.7781512503836435),\n",
              "  ('STONE', 0.7781512503836435),\n",
              "  ('RED', 0.7781512503836435),\n",
              "  ('BANGLES', 0.7781512503836435),\n",
              "  ('GOLD', 0.7781512503836435),\n",
              "  ('BODIES', 0.7781512503836435),\n",
              "  ('FUTURE', 0.7781512503836435),\n",
              "  ('SIGNPOSTS', 0.7781512503836435),\n",
              "  ('CENTRE', 0.7781512503836435),\n",
              "  ('COURTYARD', 0.7781512503836435),\n",
              "  ('BEADS', 0.7781512503836435),\n",
              "  ('DISTINCTIONS', 0.7781512503836435),\n",
              "  ('STRUCTURE', 0.7781512503836435),\n",
              "  ('HEAT', 0.7781512503836435),\n",
              "  ('PITS', 0.7781512503836435),\n",
              "  ('CIRCLE', 0.7781512503836435),\n",
              "  ('HEAD', 0.7781512503836435),\n",
              "  ('TOOLS', 0.7781512503836435),\n",
              "  ('FINDS', 0.7781512503836435),\n",
              "  ('BLACK', 0.7781512503836435),\n",
              "  ('CUT', 0.7781512503836435),\n",
              "  ('STUDIES', 0.7781512503836435),\n",
              "  ('BASIS', 0.7781512503836435),\n",
              "  ('360', 0.7781512503836435),\n",
              "  ('BONE', 0.7781512503836435),\n",
              "  ('WAY', 0.7781512503836435),\n",
              "  ('FEATURES', 0.7781512503836435),\n",
              "  ('PERSON', 0.7781512503836435),\n",
              "  ('MAN', 0.7781512503836435),\n",
              "  ('SHELL', 0.7781512503836435),\n",
              "  ('NUMBER', 0.7781512503836435),\n",
              "  ('SETTLEMENT', 0.7781512503836435),\n",
              "  ('GRAVE', 0.7781512503836435),\n",
              "  ('CRACKS', 0.7781512503836435),\n",
              "  ('MARKS', 0.7781512503836435),\n",
              "  ('ORDER', 0.7781512503836435),\n",
              "  ('CARTILAGE', 0.7781512503836435),\n",
              "  ('BOULDERS', 0.7781512503836435),\n",
              "  ('TEETH', 0.7781512503836435),\n",
              "  ('SIZE', 0.7781512503836435),\n",
              "  ('PORTHOLES', 0.7781512503836435),\n",
              "  ('WRITINGS', 0.7781512503836435),\n",
              "  ('CIRCLES', 0.7781512503836435),\n",
              "  ('GROUND', 0.7781512503836435),\n",
              "  ('CONCH', 0.7781512503836435),\n",
              "  ('POTS', 0.7781512503836435),\n",
              "  ('SKELETONS', 0.7781512503836435),\n",
              "  ('ANATOMY', 0.7781512503836435),\n",
              "  ('SEX', 0.7781512503836435),\n",
              "  ('STONES', 0.7781512503836435),\n",
              "  ('WEAPONS', 0.7781512503836435),\n",
              "  ('EARTH', 0.7781512503836435),\n",
              "  ('CLAY', 0.7781512503836435),\n",
              "  ('WARE', 0.7781512503836435),\n",
              "  ('WOMAN', 0.7781512503836435),\n",
              "  ('ANIMAL', 0.7781512503836435),\n",
              "  ('ORACLE', 0.7781512503836435),\n",
              "  ('COPPER', 0.7781512503836435),\n",
              "  ('SURFACE', 0.7781512503836435),\n",
              "  ('FORTUNETELLERS', 0.7781512503836435),\n",
              "  ('ADULTS', 0.7781512503836435),\n",
              "  ('SKELETON', 0.7781512503836435),\n",
              "  ('STATUS', 0.7781512503836435),\n",
              "  ('SPOTS', 0.7781512503836435),\n",
              "  ('INDICATIONS', 0.7781512503836435),\n",
              "  ('FOOD', 0.7781512503836435),\n",
              "  ('JAR', 0.7781512503836435),\n",
              "  ('EQUIPMENT', 0.7781512503836435),\n",
              "  ('HOUSES', 0.7781512503836435),\n",
              "  ('JOINTS', 0.7781512503836435),\n",
              "  ('JEWELLERY', 0.7781512503836435),\n",
              "  ('ORNAMENTS', 0.47712125471966244),\n",
              "  ('VESSELS', 0.47712125471966244),\n",
              "  ('DIFFERENCE', 0.47712125471966244),\n",
              "  ('INSTANCE', 0.47712125471966244),\n",
              "  ('POSITION', 0.47712125471966244),\n",
              "  ('BEARING', 0.47712125471966244),\n",
              "  ('SITES', 0.47712125471966244),\n",
              "  ('200', 0.47712125471966244),\n",
              "  ('BURIAL', 0.47712125471966244),\n",
              "  ('IRON', 0.47712125471966244),\n",
              "  ('FAMILY', 0.47712125471966244),\n",
              "  ('PLACE', 0.47712125471966244),\n",
              "  ('HORSE', 0.47712125471966244),\n",
              "  ('CHILD', 0.47712125471966244),\n",
              "  ('HOUSE', 0.47712125471966244),\n",
              "  ('CHARAKA', 0.47712125471966244),\n",
              "  ('DIFFERENCES', 0.47712125471966244),\n",
              "  ('FAMILIES', 0.47712125471966244),\n",
              "  ('BODY', 0.47712125471966244),\n",
              "  ('TIME', 0.47712125471966244),\n",
              "  ('SITE', 0.47712125471966244),\n",
              "  ('HORSES', 0.30102999566398114),\n",
              "  ('ARCHAEOLOGISTS', 0.30102999566398114),\n",
              "  ('ANIMALS', 0.30102999566398114),\n",
              "  ('BONES', 0.30102999566398114),\n",
              "  ('NORTH', 0.30102999566398114),\n",
              "  ('FIRE', 0.30102999566398114),\n",
              "  ('WATER', 0.30102999566398114),\n",
              "  ('MEGALITHS', 0.17609125905568124),\n",
              "  ('PEOPLE', 0.17609125905568124)],\n",
              " [('PEAS', 0.7781512503836435),\n",
              "  ('BOY', 0.7781512503836435),\n",
              "  ('CRAB', 0.7781512503836435),\n",
              "  ('SHELVES', 0.7781512503836435),\n",
              "  ('BER', 0.7781512503836435),\n",
              "  ('BIRDS', 0.7781512503836435),\n",
              "  ('MONGOOSE', 0.7781512503836435),\n",
              "  ('SAMBHAR', 0.7781512503836435),\n",
              "  ('HIP', 0.7781512503836435),\n",
              "  ('ASS', 0.7781512503836435),\n",
              "  ('REFERENCE', 0.7781512503836435),\n",
              "  ('NAMES', 0.7781512503836435),\n",
              "  ('MILLETS', 0.7781512503836435),\n",
              "  ('FISH', 0.7781512503836435),\n",
              "  ('GOAT', 0.7781512503836435),\n",
              "  ('PAGE13', 0.7781512503836435),\n",
              "  ('JAMUN', 0.7781512503836435),\n",
              "  ('VAISHYA', 0.7781512503836435),\n",
              "  ('FRUITS', 0.7781512503836435),\n",
              "  ('VARIETY', 0.7781512503836435),\n",
              "  ('RELIGIONS', 0.7781512503836435),\n",
              "  ('TURTLE', 0.7781512503836435),\n",
              "  ('CROCODILE', 0.7781512503836435),\n",
              "  ('PULSES', 0.7781512503836435),\n",
              "  ('SIMILARITIES', 0.7781512503836435),\n",
              "  ('SESAME', 0.7781512503836435),\n",
              "  ('ANTELOPE', 0.7781512503836435),\n",
              "  ('CASES', 0.7781512503836435),\n",
              "  ('DATES', 0.7781512503836435),\n",
              "  ('BLACKBUCK', 0.7781512503836435),\n",
              "  ('CHIEF', 0.7781512503836435),\n",
              "  ('GIRL', 0.7781512503836435),\n",
              "  ('FATHERS', 0.7781512503836435),\n",
              "  ('BERRIES', 0.7781512503836435),\n",
              "  ('CLASSROOM', 0.7781512503836435),\n",
              "  ('YADU', 0.7781512503836435),\n",
              "  ('CUPBOARD', 0.7781512503836435),\n",
              "  ('VOLUMES', 0.7781512503836435),\n",
              "  ('MISTAKES', 0.7781512503836435),\n",
              "  ('WHEAT', 0.7781512503836435),\n",
              "  ('DOG', 0.7781512503836435),\n",
              "  ('DETAIL', 0.7781512503836435),\n",
              "  ('BUFFALO', 0.7781512503836435),\n",
              "  ('VISH', 0.7781512503836435),\n",
              "  ('CORNER', 0.7781512503836435),\n",
              "  ('SHEEP', 0.7781512503836435),\n",
              "  ('PIG', 0.7781512503836435),\n",
              "  ('HARVEST', 0.7781512503836435),\n",
              "  ('BRAHMAGIRI', 0.7781512503836435),\n",
              "  ('RANG', 0.7781512503836435),\n",
              "  ('PURU', 0.7781512503836435),\n",
              "  ('BELL', 0.7781512503836435),\n",
              "  ('GHEE', 0.7781512503836435),\n",
              "  ('GRAIN', 0.7781512503836435),\n",
              "  ('HARE', 0.7781512503836435),\n",
              "  ('MARY', 0.7781512503836435),\n",
              "  ('INAMGAON', 0.7781512503836435),\n",
              "  ('SEEDS', 0.7781512503836435),\n",
              "  ('PROBLEMS', 0.7781512503836435),\n",
              "  ('TEACHER', 0.7781512503836435),\n",
              "  ('BHARATA', 0.7781512503836435),\n",
              "  ('DEER', 0.7781512503836435),\n",
              "  ('AMLA', 0.7781512503836435),\n",
              "  ('RICE', 0.7781512503836435),\n",
              "  ('JANA', 0.47712125471966244),\n",
              "  ('POSITION', 0.47712125471966244),\n",
              "  ('BEARING', 0.47712125471966244),\n",
              "  ('LIST', 0.47712125471966244),\n",
              "  ('BARLEY', 0.47712125471966244),\n",
              "  ('SITES', 0.47712125471966244),\n",
              "  ('CATTLE', 0.47712125471966244),\n",
              "  ('PAGE', 0.47712125471966244),\n",
              "  ('EVIDENCE', 0.47712125471966244),\n",
              "  ('WOMEN', 0.47712125471966244),\n",
              "  ('BURIAL', 0.47712125471966244),\n",
              "  ('AREA', 0.47712125471966244),\n",
              "  ('HORSE', 0.47712125471966244),\n",
              "  ('CHILD', 0.47712125471966244),\n",
              "  ('WORD', 0.47712125471966244),\n",
              "  ('DIFFERENCES', 0.47712125471966244),\n",
              "  ('LIBRARY', 0.47712125471966244),\n",
              "  ('STUDENTS', 0.47712125471966244),\n",
              "  ('SONS', 0.47712125471966244),\n",
              "  ('BODY', 0.47712125471966244),\n",
              "  ('OFFERINGS', 0.47712125471966244),\n",
              "  ('TIME', 0.47712125471966244),\n",
              "  ('BOOKS', 0.47712125471966244),\n",
              "  ('ARCHAEOLOGISTS', 0.30102999566398114),\n",
              "  ('ANIMALS', 0.30102999566398114),\n",
              "  ('BONES', 0.30102999566398114),\n",
              "  ('RAJAS', 0.30102999566398114)],\n",
              " [('CENTURIES', 0.7781512503836435),\n",
              "  ('AGNI', 0.7781512503836435),\n",
              "  ('WARRIOR', 0.7781512503836435),\n",
              "  ('WORLD', 0.7781512503836435),\n",
              "  ('PUNE', 0.7781512503836435),\n",
              "  ('DEVELOPMENTS', 0.7781512503836435),\n",
              "  ('DAYS', 0.7781512503836435),\n",
              "  ('VEDIC', 0.7781512503836435),\n",
              "  ('TEXTS', 0.7781512503836435),\n",
              "  ('SAMAVEDA', 0.7781512503836435),\n",
              "  ('2000', 0.7781512503836435),\n",
              "  ('RAJA', 0.7781512503836435),\n",
              "  ('DRINK', 0.7781512503836435),\n",
              "  ('BOOK', 0.7781512503836435),\n",
              "  ('MATERIAL', 0.7781512503836435),\n",
              "  ('REMAINS', 0.7781512503836435),\n",
              "  ('3000', 0.7781512503836435),\n",
              "  ('PHYSICIAN', 0.7781512503836435),\n",
              "  ('SCHOOL', 0.7781512503836435),\n",
              "  ('BARK', 0.7781512503836435),\n",
              "  ('MEDICINE', 0.7781512503836435),\n",
              "  ('PAST', 0.7781512503836435),\n",
              "  ('RISHIS', 0.7781512503836435),\n",
              "  ('PRAISE', 0.7781512503836435),\n",
              "  ('WEST', 0.7781512503836435),\n",
              "  ('WRITING', 0.7781512503836435),\n",
              "  ('SOURCES', 0.7781512503836435),\n",
              "  ('PRACTICE', 0.7781512503836435),\n",
              "  ('ATHARVAVEDA', 0.7781512503836435),\n",
              "  ('DECCAN', 0.7781512503836435),\n",
              "  ('BIRCH', 0.7781512503836435),\n",
              "  ('PLANT', 0.7781512503836435),\n",
              "  ('SOMA', 0.7781512503836435),\n",
              "  ('SOUTH', 0.7781512503836435),\n",
              "  ('VEDA', 0.7781512503836435),\n",
              "  ('GOD', 0.7781512503836435),\n",
              "  ('THOUSAND', 0.7781512503836435),\n",
              "  ('150', 0.7781512503836435),\n",
              "  ('ADDITION', 0.7781512503836435),\n",
              "  ('FORM', 0.7781512503836435),\n",
              "  ('2700', 0.7781512503836435),\n",
              "  ('SAGES', 0.7781512503836435),\n",
              "  ('3600', 0.7781512503836435),\n",
              "  ('SAMHITA', 0.7781512503836435),\n",
              "  ('3500', 0.7781512503836435),\n",
              "  ('VEDAS', 0.7781512503836435),\n",
              "  ('DIALOGUES', 0.7781512503836435),\n",
              "  ('TRANSLATION', 0.7781512503836435),\n",
              "  ('MAHARASHTRA', 0.7781512503836435),\n",
              "  ('KASHMIR', 0.7781512503836435),\n",
              "  ('SET', 0.7781512503836435),\n",
              "  ('SUKTA', 0.7781512503836435),\n",
              "  ('YAJURVEDA', 0.7781512503836435),\n",
              "  ('LIKE', 0.47712125471966244),\n",
              "  ('WORDS', 0.47712125471966244),\n",
              "  ('SUBCONTINENT', 0.47712125471966244),\n",
              "  ('DIFFERENCE', 0.47712125471966244),\n",
              "  ('KINGS', 0.47712125471966244),\n",
              "  ('GODDESSES', 0.47712125471966244),\n",
              "  ('LIST', 0.47712125471966244),\n",
              "  ('EVIDENCE', 0.47712125471966244),\n",
              "  ('200', 0.47712125471966244),\n",
              "  ('RIGVEDA', 0.47712125471966244),\n",
              "  ('EAST', 0.47712125471966244),\n",
              "  ('HISTORIANS', 0.47712125471966244),\n",
              "  ('MANUSCRIPT', 0.47712125471966244),\n",
              "  ('INDRA', 0.47712125471966244),\n",
              "  ('CHARAKA', 0.47712125471966244),\n",
              "  ('CHINA', 0.47712125471966244),\n",
              "  ('LIBRARY', 0.47712125471966244),\n",
              "  ('INDIA', 0.47712125471966244),\n",
              "  ('SANSKRIT', 0.47712125471966244),\n",
              "  ('GODS', 0.47712125471966244),\n",
              "  ('BOOKS', 0.47712125471966244),\n",
              "  ('ARCHAEOLOGISTS', 0.30102999566398114),\n",
              "  ('NORTH', 0.30102999566398114),\n",
              "  ('FIRE', 0.30102999566398114),\n",
              "  ('MEGALITHS', 0.17609125905568124),\n",
              "  ('HYMNS', 0.17609125905568124),\n",
              "  ('PEOPLE', 0.17609125905568124)],\n",
              " [('YAMUNA', 0.7781512503836435),\n",
              "  ('CARTS', 0.7781512503836435),\n",
              "  ('TRANSPORT', 0.7781512503836435),\n",
              "  ('POWER', 0.7781512503836435),\n",
              "  ('ATLAS', 0.7781512503836435),\n",
              "  ('DISTANCE', 0.7781512503836435),\n",
              "  ('ANSWER', 0.7781512503836435),\n",
              "  ('PRAYERS', 0.7781512503836435),\n",
              "  ('BHIMA', 0.7781512503836435),\n",
              "  ('VERSES', 0.7781512503836435),\n",
              "  ('BEAS', 0.7781512503836435),\n",
              "  ('MOUNTAINS', 0.7781512503836435),\n",
              "  ('SARASVATI', 0.7781512503836435),\n",
              "  ('HYMN', 0.7781512503836435),\n",
              "  ('REASONS', 0.7781512503836435),\n",
              "  ('CHILDREN', 0.7781512503836435),\n",
              "  ('AXLES', 0.7781512503836435),\n",
              "  ('GANGA', 0.7781512503836435),\n",
              "  ('MODES', 0.7781512503836435),\n",
              "  ('RIVER', 0.7781512503836435),\n",
              "  ('SEA', 0.7781512503836435),\n",
              "  ('STORY', 0.7781512503836435),\n",
              "  ('VISHVAMITRA', 0.7781512503836435),\n",
              "  ('RIVERS', 0.7781512503836435),\n",
              "  ('TRIBUTARIES', 0.7781512503836435),\n",
              "  ('SISTERS', 0.7781512503836435),\n",
              "  ('SINGER', 0.7781512503836435),\n",
              "  ('TRIBUTARY', 0.7781512503836435),\n",
              "  ('INDUS', 0.7781512503836435),\n",
              "  ('CALVES', 0.7781512503836435),\n",
              "  ('GHOD', 0.7781512503836435),\n",
              "  ('SUTLEJ', 0.7781512503836435),\n",
              "  ('DIALOGUE', 0.7781512503836435),\n",
              "  ('SENTINELS', 0.7781512503836435),\n",
              "  ('ONES', 0.7781512503836435),\n",
              "  ('PATH', 0.7781512503836435),\n",
              "  ('WATERS', 0.7781512503836435),\n",
              "  ('SAGE', 0.47712125471966244),\n",
              "  ('LIKE', 0.47712125471966244),\n",
              "  ('AREA', 0.47712125471966244),\n",
              "  ('CATTLE', 0.47712125471966244),\n",
              "  ('PAGE', 0.47712125471966244),\n",
              "  ('SONS', 0.47712125471966244),\n",
              "  ('CHARIOTS', 0.47712125471966244),\n",
              "  ('HISTORIANS', 0.47712125471966244),\n",
              "  ('RIGVEDA', 0.47712125471966244),\n",
              "  ('MANUSCRIPT', 0.47712125471966244),\n",
              "  ('GODS', 0.47712125471966244),\n",
              "  ('INDRA', 0.47712125471966244),\n",
              "  ('BATTLES', 0.47712125471966244),\n",
              "  ('SITE', 0.47712125471966244),\n",
              "  ('CHINA', 0.47712125471966244),\n",
              "  ('COWS', 0.47712125471966244),\n",
              "  ('GODDESSES', 0.47712125471966244),\n",
              "  ('RAJAS', 0.30102999566398114),\n",
              "  ('WATER', 0.30102999566398114),\n",
              "  ('HORSES', 0.30102999566398114),\n",
              "  ('MEGALITHS', 0.17609125905568124),\n",
              "  ('HYMNS', 0.17609125905568124)],\n",
              " [('EUROPEAN', 0.7781512503836435),\n",
              "  ('PRACTICES', 0.7781512503836435),\n",
              "  ('INDO', 0.7781512503836435),\n",
              "  ('BIT', 0.7781512503836435),\n",
              "  ('AUSTRO', 0.7781512503836435),\n",
              "  ('TIBETO', 0.7781512503836435),\n",
              "  ('ENGLISH', 0.7781512503836435),\n",
              "  ('SENTENCE', 0.7781512503836435),\n",
              "  ('OPPONENTS', 0.7781512503836435),\n",
              "  ('JHARKHAND', 0.7781512503836435),\n",
              "  ('CARE', 0.7781512503836435),\n",
              "  ('MALAYALAM', 0.7781512503836435),\n",
              "  ('DASAS', 0.7781512503836435),\n",
              "  ('MATR', 0.7781512503836435),\n",
              "  ('SYLLABLE', 0.7781512503836435),\n",
              "  ('KASHMIRI', 0.7781512503836435),\n",
              "  ('TAMIL', 0.7781512503836435),\n",
              "  ('DASA', 0.7781512503836435),\n",
              "  ('MOTHER', 0.7781512503836435),\n",
              "  ('WAYS', 0.7781512503836435),\n",
              "  ('DASYUS', 0.7781512503836435),\n",
              "  ('RITUALS', 0.7781512503836435),\n",
              "  ('TERM', 0.7781512503836435),\n",
              "  ('DASI', 0.7781512503836435),\n",
              "  ('BRAHMINS', 0.7781512503836435),\n",
              "  ('KANNADA', 0.7781512503836435),\n",
              "  ('SPANISH', 0.7781512503836435),\n",
              "  ('TERMS', 0.7781512503836435),\n",
              "  ('COMMUNITIES', 0.7781512503836435),\n",
              "  ('HINDI', 0.7781512503836435),\n",
              "  ('SLAVE', 0.7781512503836435),\n",
              "  ('GUJARATI', 0.7781512503836435),\n",
              "  ('TELUGU', 0.7781512503836435),\n",
              "  ('ARYAS', 0.7781512503836435),\n",
              "  ('LANGUAGE', 0.7781512503836435),\n",
              "  ('BURMAN', 0.7781512503836435),\n",
              "  ('PARTS', 0.7781512503836435),\n",
              "  ('COMMUNITY', 0.7781512503836435),\n",
              "  ('WORD', 0.47712125471966244),\n",
              "  ('FAMILIES', 0.47712125471966244),\n",
              "  ('WORK', 0.47712125471966244),\n",
              "  ('PRIESTS', 0.47712125471966244),\n",
              "  ('FAMILY', 0.47712125471966244),\n",
              "  ('WORDS', 0.47712125471966244),\n",
              "  ('STUDENTS', 0.47712125471966244),\n",
              "  ('LANGUAGES', 0.47712125471966244),\n",
              "  ('INDIA', 0.47712125471966244),\n",
              "  ('EAST', 0.47712125471966244),\n",
              "  ('SUBCONTINENT', 0.47712125471966244),\n",
              "  ('SANSKRIT', 0.47712125471966244),\n",
              "  ('JANA', 0.47712125471966244),\n",
              "  ('PLACE', 0.47712125471966244),\n",
              "  ('INSTANCE', 0.47712125471966244),\n",
              "  ('RAJAS', 0.30102999566398114),\n",
              "  ('NORTH', 0.30102999566398114),\n",
              "  ('PEOPLE', 0.17609125905568124),\n",
              "  ('HYMNS', 0.17609125905568124)],\n",
              " [('BRONZE', 0.7781512503836435),\n",
              "  ('GRANARY', 0.7781512503836435),\n",
              "  ('WARRIORS', 0.7781512503836435),\n",
              "  ('LEADERS', 0.7781512503836435),\n",
              "  ('WEALTH', 0.7781512503836435),\n",
              "  ('WARS', 0.7781512503836435),\n",
              "  ('SCRIBES', 0.7781512503836435),\n",
              "  ('USE', 0.7781512503836435),\n",
              "  ('LAND', 0.7781512503836435),\n",
              "  ('CROPS', 0.7781512503836435),\n",
              "  ('SOCIETY', 0.7781512503836435),\n",
              "  ('QUESTIONS', 0.7781512503836435),\n",
              "  ('PERFORMANCE', 0.7781512503836435),\n",
              "  ('WAR', 0.7781512503836435),\n",
              "  ('CAPITAL', 0.7781512503836435),\n",
              "  ('CHIEFS', 0.7781512503836435),\n",
              "  ('PROPERTY', 0.7781512503836435),\n",
              "  ('TAXES', 0.7781512503836435),\n",
              "  ('OWNERS', 0.7781512503836435),\n",
              "  ('REST', 0.7781512503836435),\n",
              "  ('CITIES', 0.7781512503836435),\n",
              "  ('ASSEMBLIES', 0.7781512503836435),\n",
              "  ('ARMY', 0.7781512503836435),\n",
              "  ('MEN', 0.7781512503836435),\n",
              "  ('PEACE', 0.7781512503836435),\n",
              "  ('THINGS', 0.7781512503836435),\n",
              "  ('MATTERS', 0.7781512503836435),\n",
              "  ('YAJNAS', 0.7781512503836435),\n",
              "  ('ARMIES', 0.7781512503836435),\n",
              "  ('FOLLOWERS', 0.7781512503836435),\n",
              "  ('SLAVES', 0.7781512503836435),\n",
              "  ('SACRIFICES', 0.7781512503836435),\n",
              "  ('PALACES', 0.7781512503836435),\n",
              "  ('HARAPPAN', 0.7781512503836435),\n",
              "  ('QUANTITIES', 0.7781512503836435),\n",
              "  ('PASTURE', 0.7781512503836435),\n",
              "  ('SAGE', 0.47712125471966244),\n",
              "  ('WORK', 0.47712125471966244),\n",
              "  ('BARLEY', 0.47712125471966244),\n",
              "  ('ORNAMENTS', 0.47712125471966244),\n",
              "  ('PRIESTS', 0.47712125471966244),\n",
              "  ('LANGUAGES', 0.47712125471966244),\n",
              "  ('VESSELS', 0.47712125471966244),\n",
              "  ('WOMEN', 0.47712125471966244),\n",
              "  ('IRON', 0.47712125471966244),\n",
              "  ('CHARIOTS', 0.47712125471966244),\n",
              "  ('KINGS', 0.47712125471966244),\n",
              "  ('OFFERINGS', 0.47712125471966244),\n",
              "  ('HOUSE', 0.47712125471966244),\n",
              "  ('BATTLES', 0.47712125471966244),\n",
              "  ('COWS', 0.47712125471966244),\n",
              "  ('ANIMALS', 0.30102999566398114),\n",
              "  ('BONES', 0.30102999566398114),\n",
              "  ('WATER', 0.30102999566398114),\n",
              "  ('HORSES', 0.30102999566398114),\n",
              "  ('FIRE', 0.30102999566398114),\n",
              "  ('MEGALITHS', 0.17609125905568124),\n",
              "  ('PEOPLE', 0.17609125905568124),\n",
              "  ('HYMNS', 0.17609125905568124)]]"
            ]
          },
          "metadata": {
            "tags": []
          },
          "execution_count": 30
        }
      ]
    },
    {
      "cell_type": "code",
      "metadata": {
        "id": "cFJdZKvmHI0C"
      },
      "source": [
        "final_scores = []\n",
        "for clus in tst_scores:\n",
        "  if(len(clus)):\n",
        "    high = clus[0][1]\n",
        "    stop = 0\n",
        "    for i in range(len(clus)):\n",
        "      if(clus[i][1]!=high):\n",
        "        stop = i-1\n",
        "        break\n",
        "    final_scores.append(clus[:stop+1])\n",
        "  else:\n",
        "    final_scores.append([])\n",
        "\n"
      ],
      "execution_count": 31,
      "outputs": []
    },
    {
      "cell_type": "code",
      "metadata": {
        "id": "v8GLvMufJbhX"
      },
      "source": [
        "import random\n",
        "def get_top_keywords(final_scores):\n",
        "  final_keys = []\n",
        "  for i in range(len(final_scores)):\n",
        "    if(len(final_scores[i]) > 4):\n",
        "      clus_len = len(final_scores[i])\n",
        "      clus_random = random.sample(final_scores[i], clus_len//4)\n",
        "      clus_random = [word[0] for word in clus_random]\n",
        "      final_keys.append(clus_random)\n",
        "    else:\n",
        "      clus_random = [word[0] for word in final_scores[i]]\n",
        "      final_keys.append(clus_random)\n",
        "  return final_keys\n",
        "\n",
        "\n",
        "fill_keys = get_top_keywords(final_scores)\n"
      ],
      "execution_count": 41,
      "outputs": []
    },
    {
      "cell_type": "code",
      "metadata": {
        "colab": {
          "base_uri": "https://localhost:8080/"
        },
        "id": "RJ1em2-VP6iV",
        "outputId": "0f8701db-3f65-4261-d607-3ac39d2e5389"
      },
      "source": [
        "len(fill_keys)"
      ],
      "execution_count": 42,
      "outputs": [
        {
          "output_type": "execute_result",
          "data": {
            "text/plain": [
              "6"
            ]
          },
          "metadata": {
            "tags": []
          },
          "execution_count": 42
        }
      ]
    },
    {
      "cell_type": "code",
      "metadata": {
        "id": "z8fA7ftbNhgL"
      },
      "source": [
        "def gen_fill_in_blanks(fill_keys, clusters):\n",
        "  final_fill_in_blanks = []\n",
        "  for i in range(len(clusters)):\n",
        "    print('_____________')\n",
        "    print('Cluster:',i+1)\n",
        "    final_clus = []\n",
        "    for sent in clusters[i]:\n",
        "      for word in fill_keys[i]:\n",
        "        if(word in sent.upper().split()):\n",
        "          print('Original:', sent.upper())\n",
        "          #print(word)\n",
        "          print('Fill in the Blank:', sent.upper().replace(word, ' _______ '))\n",
        "          to_keep = int(input('Do you want to keep this question? 1 for yes 0 for no'))\n",
        "          if(to_keep):\n",
        "            options = []\n",
        "            antonyms = []\n",
        "            \n",
        "            kw_extractor = yake.KeywordExtractor()\n",
        "            test_sent = grouped[i][0]\n",
        "            for j in grouped[i][1:]:\n",
        "              if(j[-1]=='?'):\n",
        "                test_sent+= j\n",
        "              else:\n",
        "                test_sent+= '.'\n",
        "                test_sent+=j\n",
        "            #print(test_sent)\n",
        "            keywords = kw_extractor.extract_keywords(test_sent)\n",
        "            #print(keywords)\n",
        "            for syn in wordnet.synsets(word):\n",
        "                    for l in syn.lemmas():\n",
        "                          #synonyms.append(l.name())\n",
        "                          if l.antonyms():\n",
        "                              antonyms.append(l.antonyms()[0].name().upper())\n",
        "            if(len(antonyms)):\n",
        "              options.append(antonyms[0])\n",
        "              key_ops = [w[0].upper() for w in random.sample(keywords, 4)]\n",
        "              cnt = 0\n",
        "              for i in range(len(key_ops)):\n",
        "                if(key_ops[i]!= word and (word not in key_ops[i])):\n",
        "                  options.append(key_ops[i])\n",
        "                  cnt+=1\n",
        "                if(cnt==2):\n",
        "                  break\n",
        "            elif(word.isnumeric()):\n",
        "              ops = [str(int(word)+50),str(int(word)+100),str(int(word)-10),str(int(word)-50)]\n",
        "              options.extend(ops)\n",
        "            else:\n",
        "              key_ops = [w[0].upper() for w in random.sample(keywords, 5)]\n",
        "              cnt = 0\n",
        "              for i in range(len(key_ops)):\n",
        "                if(key_ops[i]!= word and (word not in key_ops[i])):\n",
        "                  options.append(key_ops[i])\n",
        "                  cnt+=1\n",
        "                if(cnt==3):\n",
        "                  break\n",
        "            \n",
        "\n",
        "            options.append(word)\n",
        "\n",
        "            final_clus.append([sent.upper().replace(word, '_______'), options, i]) #Sent, Keyword, Cluster #num\n",
        "            #print(final_clus)\n",
        "          print('---------------')\n",
        "    final_fill_in_blanks.append(final_clus)\n",
        "  return final_fill_in_blanks\n"
      ],
      "execution_count": 43,
      "outputs": []
    },
    {
      "cell_type": "code",
      "metadata": {
        "colab": {
          "base_uri": "https://localhost:8080/"
        },
        "id": "mDvLBOl0PtZK",
        "outputId": "4774d498-a47a-438a-a02c-ad1e7ddd72f9"
      },
      "source": [
        "final_fill_in_banks = gen_fill_in_blanks(fill_keys, grouped)"
      ],
      "execution_count": null,
      "outputs": [
        {
          "output_type": "stream",
          "text": [
            "_____________\n",
            "Cluster: 1\n",
            "Original:  ONE MAN WAS FOUND BURIED IN A LARGE, FOUR LEGGED CLAY JAR IN THE COURTYARD OF A FIVE-ROOMED HOUSE (ONE OF THE LARGEST HOUSES AT THE SITE), IN THE CENTRE OF THE SETTLEMENT\n",
            "Fill in the Blank:  ONE  _______  WAS FOUND BURIED IN A LARGE, FOUR LEGGED CLAY JAR IN THE COURTYARD OF A FIVE-ROOMED HOUSE (ONE OF THE LARGEST HOUSES AT THE SITE), IN THE CENTRE OF THE SETTLEMENT\n",
            "Do you want to keep this question? 1 for yes 0 for no0\n",
            "---------------\n",
            "Original:  ONE MAN WAS FOUND BURIED IN A LARGE, FOUR LEGGED CLAY JAR IN THE COURTYARD OF A FIVE-ROOMED HOUSE (ONE OF THE LARGEST HOUSES AT THE SITE), IN THE CENTRE OF THE SETTLEMENT\n",
            "Fill in the Blank:  ONE MAN WAS FOUND BURIED IN A LARGE, FOUR LEGGED CLAY  _______  IN THE COURTYARD OF A FIVE-ROOMED HOUSE (ONE OF THE LARGEST HOUSES AT THE SITE), IN THE CENTRE OF THE SETTLEMENT\n",
            "Do you want to keep this question? 1 for yes 0 for no1\n",
            "---------------\n",
            "Original:  ONE MAN WAS FOUND BURIED IN A LARGE, FOUR LEGGED CLAY JAR IN THE COURTYARD OF A FIVE-ROOMED HOUSE (ONE OF THE LARGEST HOUSES AT THE SITE), IN THE CENTRE OF THE SETTLEMENT\n",
            "Fill in the Blank:  ONE MAN WAS FOUND BURIED IN A LARGE, FOUR LEGGED CLAY JAR IN THE COURTYARD OF A FIVE-ROOMED HOUSE (ONE OF THE LARGEST HOUSES AT THE SITE), IN THE CENTRE OF THE  _______ \n",
            "Do you want to keep this question? 1 for yes 0 for no0\n",
            "---------------\n",
            "_____________\n",
            "Cluster: 2\n",
            "Original:  SEVERAL VISH OR JANA ARE MENTIONED BY NAME\n",
            "Fill in the Blank:  SEVERAL  _______  OR JANA ARE MENTIONED BY NAME\n",
            "Do you want to keep this question? 1 for yes 0 for no1\n",
            "---------------\n",
            "_____________\n",
            "Cluster: 3\n",
            "Original:  THE PRACTICE OF ERECTING MEGALITHS BEGAN ABOUT 3000 YEARS AGO, AND WAS PREVALENT THROUGHOUT THE DECCAN, SOUTH INDIA, IN THE NORTH-EAST AND KASHMIR\n",
            "Fill in the Blank:  THE PRACTICE OF ERECTING MEGALITHS BEGAN ABOUT  _______  YEARS AGO, AND WAS PREVALENT THROUGHOUT THE DECCAN, SOUTH INDIA, IN THE NORTH-EAST AND KASHMIR\n",
            "Do you want to keep this question? 1 for yes 0 for no1\n",
            "---------------\n",
            "Original:  THE PRACTICE OF ERECTING MEGALITHS BEGAN ABOUT 3000 YEARS AGO, AND WAS PREVALENT THROUGHOUT THE DECCAN, SOUTH INDIA, IN THE NORTH-EAST AND KASHMIR\n",
            "Fill in the Blank:  THE PRACTICE OF ERECTING MEGALITHS BEGAN ABOUT 3000 YEARS AGO, AND WAS PREVALENT THROUGHOUT THE DECCAN, SOUTH INDIA, IN THE NORTH-EAST AND  _______ \n",
            "Do you want to keep this question? 1 for yes 0 for no0\n",
            "---------------\n",
            "Original:  THE OLDEST VEDA IS THE RIGVEDA, COMPOSED ABOUT 3500 YEARS AGO\n",
            "Fill in the Blank:  THE OLDEST  _______  IS THE RIG _______ , COMPOSED ABOUT 3500 YEARS AGO\n",
            "Do you want to keep this question? 1 for yes 0 for no1\n",
            "---------------\n",
            "_____________\n",
            "Cluster: 4\n",
            "Original:  IT IS A SITE ON THE RIVER GHOD, A TRIBUTARY OF THE BHIMA\n",
            "Fill in the Blank:  IT IS A SITE ON THE RIVER GHOD, A TRIBUTARY OF THE  _______ \n",
            "Do you want to keep this question? 1 for yes 0 for no1\n",
            "---------------\n",
            "Original:  IT IS A SITE ON THE RIVER GHOD, A TRIBUTARY OF THE BHIMA\n",
            "Fill in the Blank:  IT IS A SITE ON THE RIVER GHOD, A  _______  OF THE BHIMA\n",
            "Do you want to keep this question? 1 for yes 0 for no0\n",
            "---------------\n",
            "_____________\n",
            "Cluster: 5\n",
            "Original:  FOR INSTANCE, THOSE USED IN THE NORTH-EAST BELONG TO THE TIBETO-BURMAN FAMILY; TAMIL, TELUGU, KANNADA AND MALAYALAM BELONG TO THE DRAVIDIAN FAMILY; AND THE LANGUAGES SPOKEN IN JHARKHAND AND PARTS OF CENTRAL INDIA BELONG TO THE AUSTRO-ASIATIC FAMILY\n",
            "Fill in the Blank:  FOR INSTANCE, THOSE USED IN THE NORTH-EAST BELONG TO THE TIBETO-BURMAN FAMILY; TAMIL, TELUGU, KANNADA AND MALAYALAM BELONG TO THE DRAVIDIAN FAMILY; AND THE LANGUAGES SPOKEN IN JHARKHAND AND  _______  OF CENTRAL INDIA BELONG TO THE AUSTRO-ASIATIC FAMILY\n",
            "Do you want to keep this question? 1 for yes 0 for no1\n",
            "---------------\n",
            "Original:  FOR INSTANCE, THOSE USED IN THE NORTH-EAST BELONG TO THE TIBETO-BURMAN FAMILY; TAMIL, TELUGU, KANNADA AND MALAYALAM BELONG TO THE DRAVIDIAN FAMILY; AND THE LANGUAGES SPOKEN IN JHARKHAND AND PARTS OF CENTRAL INDIA BELONG TO THE AUSTRO-ASIATIC FAMILY\n",
            "Fill in the Blank:  FOR INSTANCE, THOSE USED IN THE NORTH-EAST BELONG TO THE TIBETO-BURMAN FAMILY; TAMIL, TELUGU,  _______  AND MALAYALAM BELONG TO THE DRAVIDIAN FAMILY; AND THE LANGUAGES SPOKEN IN JHARKHAND AND PARTS OF CENTRAL INDIA BELONG TO THE AUSTRO-ASIATIC FAMILY\n",
            "Do you want to keep this question? 1 for yes 0 for no0\n",
            "---------------\n",
            "_____________\n",
            "Cluster: 6\n",
            "Original:  THERE WAS NO REGULAR ARMY, BUT THERE WERE ASSEMBLIES WHERE PEOPLE MET AND DISCUSSED MATTERS OF WAR AND PEACE\n",
            "Fill in the Blank:  THERE WAS NO REGULAR ARMY, BUT THERE WERE  _______  WHERE PEOPLE MET AND DISCUSSED MATTERS OF WAR AND PEACE\n"
          ],
          "name": "stdout"
        }
      ]
    },
    {
      "cell_type": "code",
      "metadata": {
        "colab": {
          "base_uri": "https://localhost:8080/"
        },
        "id": "n9ElTBBf0RAL",
        "outputId": "a052d446-8308-4a02-f85e-7bbb9f5ed79e"
      },
      "source": [
        "final_fill_in_banks"
      ],
      "execution_count": 313,
      "outputs": [
        {
          "output_type": "execute_result",
          "data": {
            "text/plain": [
              "[[[' HE TELLS THEM THAT IT TAKES 17 FULL GROWN TREES TO MAKE ONE _______ OF PAPER',\n",
              "   ['FORESTS', 'FUTURE', 'FUTURE GENERATIONS', 'TONNE'],\n",
              "   2]],\n",
              " [[' THE PACHMARHI BIOSPHERE RESERVE CONSISTS OF ONE NATIONAL PARK NAMED SATPURA AND TWO WILDLIFE _______ NAMED BORI AND   PACHMARHI (FIG',\n",
              "   ['SATPURA TIGER RESERVE', 'NATIONAL PARK', 'RESERVE', 'SANCTUARIES'],\n",
              "   2]],\n",
              " [[' BIRDS WHO COVER LONG _______ TO REACH ANOTHER LAND ARE KNOWN AS MIGRATORY BIRDS AS PAHELI LEARNT IN CLASS VII',\n",
              "   ['GIANT', 'AREA', 'SQUIRREL', 'DISTANCES'],\n",
              "   2]],\n",
              " [[' • MAKING FURNITURE OR USING _______ AS FUEL',\n",
              "   ['TAWA RESERVOIR', 'KILL SNAKES', 'OWLS', 'WOOD'],\n",
              "   2]],\n",
              " [],\n",
              " [],\n",
              " [[' GRADUALLY THE FERTILE LAND GETS CONVERTED INTO _______',\n",
              "   ['HOLDING CAPACITY', 'DECREASE', 'GLOBAL WARMING', 'DESERTS'],\n",
              "   2]],\n",
              " [[' THEY WERE TOLD BY PROFESSOR AHMAD THAT IF CUTTING OF TREES CONTINUES, RAINFALL AND THE _______ OF THE SOIL WILL DECREASE',\n",
              "   ['INFERTILITY', 'ACT', 'AHMAD', 'FERTILITY'],\n",
              "   1]]]"
            ]
          },
          "metadata": {
            "tags": []
          },
          "execution_count": 313
        }
      ]
    },
    {
      "cell_type": "code",
      "metadata": {
        "id": "MYsOkJzsm-lp"
      },
      "source": [
        "# Saving all OPs in a text file for future reference & baselining\n",
        "\n",
        "save_op = open(\"QA_op_\"+ str(glb_cnt) + \".txt\", \"w+\")\n",
        "\n",
        "#Writing Data Used for this Trial\n",
        "\n",
        "#Course Used\n",
        "\n",
        "save_op.write(\"Fill in the blanks Question with Options \\n\")\n",
        "\n",
        "#Cluster Wise\n",
        "\n",
        "for clus in final_fill_in_banks:\n",
        "  if(len(clus)):\n",
        "    for q in clus:\n",
        "      save_op.write('Q: ' + q[0] + '\\n')\n",
        "      save_op.write('Options: \\n')\n",
        "      for opt in q[1]:\n",
        "        save_op.write(opt + '\\n') \n",
        "      save_op.write('Correct Answer: ' + q[1][-1] + '\\n')\n",
        "      save_op.write('------------- \\n')\n",
        "\n",
        "save_op.close()\n",
        "glb_cnt+=1"
      ],
      "execution_count": 314,
      "outputs": []
    },
    {
      "cell_type": "code",
      "metadata": {
        "id": "rQtoZSQU01XG"
      },
      "source": [
        ""
      ],
      "execution_count": null,
      "outputs": []
    },
    {
      "cell_type": "code",
      "metadata": {
        "colab": {
          "base_uri": "https://localhost:8080/",
          "height": 162
        },
        "id": "vQ6F-HxyFM2N",
        "outputId": "f0651cfb-16af-4152-fc1c-5351d2c552b8"
      },
      "source": [
        "f"
      ],
      "execution_count": null,
      "outputs": [
        {
          "output_type": "error",
          "ename": "NameError",
          "evalue": "ignored",
          "traceback": [
            "\u001b[0;31m---------------------------------------------------------------------------\u001b[0m",
            "\u001b[0;31mNameError\u001b[0m                                 Traceback (most recent call last)",
            "\u001b[0;32m<ipython-input-19-a9fcd54b25e7>\u001b[0m in \u001b[0;36m<module>\u001b[0;34m()\u001b[0m\n\u001b[0;32m----> 1\u001b[0;31m \u001b[0mf\u001b[0m\u001b[0;34m\u001b[0m\u001b[0;34m\u001b[0m\u001b[0m\n\u001b[0m",
            "\u001b[0;31mNameError\u001b[0m: name 'f' is not defined"
          ]
        }
      ]
    },
    {
      "cell_type": "code",
      "metadata": {
        "id": "Cuaps8D6e-lp"
      },
      "source": [
        ""
      ],
      "execution_count": null,
      "outputs": []
    }
  ]
}